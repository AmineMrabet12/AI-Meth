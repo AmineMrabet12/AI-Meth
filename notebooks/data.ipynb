{
 "cells": [
  {
   "cell_type": "code",
   "execution_count": 1,
   "metadata": {},
   "outputs": [],
   "source": [
    "import pandas as pd"
   ]
  },
  {
   "cell_type": "code",
   "execution_count": 2,
   "metadata": {},
   "outputs": [],
   "source": [
    "df = pd.read_excel('../data/E Commerce Dataset.xlsx', sheet_name='E Comm')"
   ]
  },
  {
   "cell_type": "code",
   "execution_count": 3,
   "metadata": {},
   "outputs": [],
   "source": [
    "df = df.drop(columns=['CustomerID'])"
   ]
  },
  {
   "cell_type": "code",
   "execution_count": 4,
   "metadata": {},
   "outputs": [
    {
     "data": {
      "text/html": [
       "<div>\n",
       "<style scoped>\n",
       "    .dataframe tbody tr th:only-of-type {\n",
       "        vertical-align: middle;\n",
       "    }\n",
       "\n",
       "    .dataframe tbody tr th {\n",
       "        vertical-align: top;\n",
       "    }\n",
       "\n",
       "    .dataframe thead th {\n",
       "        text-align: right;\n",
       "    }\n",
       "</style>\n",
       "<table border=\"1\" class=\"dataframe\">\n",
       "  <thead>\n",
       "    <tr style=\"text-align: right;\">\n",
       "      <th></th>\n",
       "      <th>Churn</th>\n",
       "      <th>Tenure</th>\n",
       "      <th>PreferredLoginDevice</th>\n",
       "      <th>CityTier</th>\n",
       "      <th>WarehouseToHome</th>\n",
       "      <th>PreferredPaymentMode</th>\n",
       "      <th>Gender</th>\n",
       "      <th>HourSpendOnApp</th>\n",
       "      <th>NumberOfDeviceRegistered</th>\n",
       "      <th>PreferedOrderCat</th>\n",
       "      <th>SatisfactionScore</th>\n",
       "      <th>MaritalStatus</th>\n",
       "      <th>NumberOfAddress</th>\n",
       "      <th>Complain</th>\n",
       "      <th>OrderAmountHikeFromlastYear</th>\n",
       "      <th>CouponUsed</th>\n",
       "      <th>OrderCount</th>\n",
       "      <th>DaySinceLastOrder</th>\n",
       "      <th>CashbackAmount</th>\n",
       "    </tr>\n",
       "  </thead>\n",
       "  <tbody>\n",
       "    <tr>\n",
       "      <th>0</th>\n",
       "      <td>1</td>\n",
       "      <td>4.0</td>\n",
       "      <td>Mobile Phone</td>\n",
       "      <td>3</td>\n",
       "      <td>6.0</td>\n",
       "      <td>Debit Card</td>\n",
       "      <td>Female</td>\n",
       "      <td>3.0</td>\n",
       "      <td>3</td>\n",
       "      <td>Laptop &amp; Accessory</td>\n",
       "      <td>2</td>\n",
       "      <td>Single</td>\n",
       "      <td>9</td>\n",
       "      <td>1</td>\n",
       "      <td>11.0</td>\n",
       "      <td>1.0</td>\n",
       "      <td>1.0</td>\n",
       "      <td>5.0</td>\n",
       "      <td>159.93</td>\n",
       "    </tr>\n",
       "    <tr>\n",
       "      <th>1</th>\n",
       "      <td>1</td>\n",
       "      <td>NaN</td>\n",
       "      <td>Phone</td>\n",
       "      <td>1</td>\n",
       "      <td>8.0</td>\n",
       "      <td>UPI</td>\n",
       "      <td>Male</td>\n",
       "      <td>3.0</td>\n",
       "      <td>4</td>\n",
       "      <td>Mobile</td>\n",
       "      <td>3</td>\n",
       "      <td>Single</td>\n",
       "      <td>7</td>\n",
       "      <td>1</td>\n",
       "      <td>15.0</td>\n",
       "      <td>0.0</td>\n",
       "      <td>1.0</td>\n",
       "      <td>0.0</td>\n",
       "      <td>120.90</td>\n",
       "    </tr>\n",
       "    <tr>\n",
       "      <th>2</th>\n",
       "      <td>1</td>\n",
       "      <td>NaN</td>\n",
       "      <td>Phone</td>\n",
       "      <td>1</td>\n",
       "      <td>30.0</td>\n",
       "      <td>Debit Card</td>\n",
       "      <td>Male</td>\n",
       "      <td>2.0</td>\n",
       "      <td>4</td>\n",
       "      <td>Mobile</td>\n",
       "      <td>3</td>\n",
       "      <td>Single</td>\n",
       "      <td>6</td>\n",
       "      <td>1</td>\n",
       "      <td>14.0</td>\n",
       "      <td>0.0</td>\n",
       "      <td>1.0</td>\n",
       "      <td>3.0</td>\n",
       "      <td>120.28</td>\n",
       "    </tr>\n",
       "    <tr>\n",
       "      <th>3</th>\n",
       "      <td>1</td>\n",
       "      <td>0.0</td>\n",
       "      <td>Phone</td>\n",
       "      <td>3</td>\n",
       "      <td>15.0</td>\n",
       "      <td>Debit Card</td>\n",
       "      <td>Male</td>\n",
       "      <td>2.0</td>\n",
       "      <td>4</td>\n",
       "      <td>Laptop &amp; Accessory</td>\n",
       "      <td>5</td>\n",
       "      <td>Single</td>\n",
       "      <td>8</td>\n",
       "      <td>0</td>\n",
       "      <td>23.0</td>\n",
       "      <td>0.0</td>\n",
       "      <td>1.0</td>\n",
       "      <td>3.0</td>\n",
       "      <td>134.07</td>\n",
       "    </tr>\n",
       "    <tr>\n",
       "      <th>4</th>\n",
       "      <td>1</td>\n",
       "      <td>0.0</td>\n",
       "      <td>Phone</td>\n",
       "      <td>1</td>\n",
       "      <td>12.0</td>\n",
       "      <td>CC</td>\n",
       "      <td>Male</td>\n",
       "      <td>NaN</td>\n",
       "      <td>3</td>\n",
       "      <td>Mobile</td>\n",
       "      <td>5</td>\n",
       "      <td>Single</td>\n",
       "      <td>3</td>\n",
       "      <td>0</td>\n",
       "      <td>11.0</td>\n",
       "      <td>1.0</td>\n",
       "      <td>1.0</td>\n",
       "      <td>3.0</td>\n",
       "      <td>129.60</td>\n",
       "    </tr>\n",
       "    <tr>\n",
       "      <th>...</th>\n",
       "      <td>...</td>\n",
       "      <td>...</td>\n",
       "      <td>...</td>\n",
       "      <td>...</td>\n",
       "      <td>...</td>\n",
       "      <td>...</td>\n",
       "      <td>...</td>\n",
       "      <td>...</td>\n",
       "      <td>...</td>\n",
       "      <td>...</td>\n",
       "      <td>...</td>\n",
       "      <td>...</td>\n",
       "      <td>...</td>\n",
       "      <td>...</td>\n",
       "      <td>...</td>\n",
       "      <td>...</td>\n",
       "      <td>...</td>\n",
       "      <td>...</td>\n",
       "      <td>...</td>\n",
       "    </tr>\n",
       "    <tr>\n",
       "      <th>5625</th>\n",
       "      <td>0</td>\n",
       "      <td>10.0</td>\n",
       "      <td>Computer</td>\n",
       "      <td>1</td>\n",
       "      <td>30.0</td>\n",
       "      <td>Credit Card</td>\n",
       "      <td>Male</td>\n",
       "      <td>3.0</td>\n",
       "      <td>2</td>\n",
       "      <td>Laptop &amp; Accessory</td>\n",
       "      <td>1</td>\n",
       "      <td>Married</td>\n",
       "      <td>6</td>\n",
       "      <td>0</td>\n",
       "      <td>18.0</td>\n",
       "      <td>1.0</td>\n",
       "      <td>2.0</td>\n",
       "      <td>4.0</td>\n",
       "      <td>150.71</td>\n",
       "    </tr>\n",
       "    <tr>\n",
       "      <th>5626</th>\n",
       "      <td>0</td>\n",
       "      <td>13.0</td>\n",
       "      <td>Mobile Phone</td>\n",
       "      <td>1</td>\n",
       "      <td>13.0</td>\n",
       "      <td>Credit Card</td>\n",
       "      <td>Male</td>\n",
       "      <td>3.0</td>\n",
       "      <td>5</td>\n",
       "      <td>Fashion</td>\n",
       "      <td>5</td>\n",
       "      <td>Married</td>\n",
       "      <td>6</td>\n",
       "      <td>0</td>\n",
       "      <td>16.0</td>\n",
       "      <td>1.0</td>\n",
       "      <td>2.0</td>\n",
       "      <td>NaN</td>\n",
       "      <td>224.91</td>\n",
       "    </tr>\n",
       "    <tr>\n",
       "      <th>5627</th>\n",
       "      <td>0</td>\n",
       "      <td>1.0</td>\n",
       "      <td>Mobile Phone</td>\n",
       "      <td>1</td>\n",
       "      <td>11.0</td>\n",
       "      <td>Debit Card</td>\n",
       "      <td>Male</td>\n",
       "      <td>3.0</td>\n",
       "      <td>2</td>\n",
       "      <td>Laptop &amp; Accessory</td>\n",
       "      <td>4</td>\n",
       "      <td>Married</td>\n",
       "      <td>3</td>\n",
       "      <td>1</td>\n",
       "      <td>21.0</td>\n",
       "      <td>1.0</td>\n",
       "      <td>2.0</td>\n",
       "      <td>4.0</td>\n",
       "      <td>186.42</td>\n",
       "    </tr>\n",
       "    <tr>\n",
       "      <th>5628</th>\n",
       "      <td>0</td>\n",
       "      <td>23.0</td>\n",
       "      <td>Computer</td>\n",
       "      <td>3</td>\n",
       "      <td>9.0</td>\n",
       "      <td>Credit Card</td>\n",
       "      <td>Male</td>\n",
       "      <td>4.0</td>\n",
       "      <td>5</td>\n",
       "      <td>Laptop &amp; Accessory</td>\n",
       "      <td>4</td>\n",
       "      <td>Married</td>\n",
       "      <td>4</td>\n",
       "      <td>0</td>\n",
       "      <td>15.0</td>\n",
       "      <td>2.0</td>\n",
       "      <td>2.0</td>\n",
       "      <td>9.0</td>\n",
       "      <td>178.90</td>\n",
       "    </tr>\n",
       "    <tr>\n",
       "      <th>5629</th>\n",
       "      <td>0</td>\n",
       "      <td>8.0</td>\n",
       "      <td>Mobile Phone</td>\n",
       "      <td>1</td>\n",
       "      <td>15.0</td>\n",
       "      <td>Credit Card</td>\n",
       "      <td>Male</td>\n",
       "      <td>3.0</td>\n",
       "      <td>2</td>\n",
       "      <td>Laptop &amp; Accessory</td>\n",
       "      <td>3</td>\n",
       "      <td>Married</td>\n",
       "      <td>4</td>\n",
       "      <td>0</td>\n",
       "      <td>13.0</td>\n",
       "      <td>2.0</td>\n",
       "      <td>2.0</td>\n",
       "      <td>3.0</td>\n",
       "      <td>169.04</td>\n",
       "    </tr>\n",
       "  </tbody>\n",
       "</table>\n",
       "<p>5630 rows × 19 columns</p>\n",
       "</div>"
      ],
      "text/plain": [
       "      Churn  Tenure PreferredLoginDevice  CityTier  WarehouseToHome  \\\n",
       "0         1     4.0         Mobile Phone         3              6.0   \n",
       "1         1     NaN                Phone         1              8.0   \n",
       "2         1     NaN                Phone         1             30.0   \n",
       "3         1     0.0                Phone         3             15.0   \n",
       "4         1     0.0                Phone         1             12.0   \n",
       "...     ...     ...                  ...       ...              ...   \n",
       "5625      0    10.0             Computer         1             30.0   \n",
       "5626      0    13.0         Mobile Phone         1             13.0   \n",
       "5627      0     1.0         Mobile Phone         1             11.0   \n",
       "5628      0    23.0             Computer         3              9.0   \n",
       "5629      0     8.0         Mobile Phone         1             15.0   \n",
       "\n",
       "     PreferredPaymentMode  Gender  HourSpendOnApp  NumberOfDeviceRegistered  \\\n",
       "0              Debit Card  Female             3.0                         3   \n",
       "1                     UPI    Male             3.0                         4   \n",
       "2              Debit Card    Male             2.0                         4   \n",
       "3              Debit Card    Male             2.0                         4   \n",
       "4                      CC    Male             NaN                         3   \n",
       "...                   ...     ...             ...                       ...   \n",
       "5625          Credit Card    Male             3.0                         2   \n",
       "5626          Credit Card    Male             3.0                         5   \n",
       "5627           Debit Card    Male             3.0                         2   \n",
       "5628          Credit Card    Male             4.0                         5   \n",
       "5629          Credit Card    Male             3.0                         2   \n",
       "\n",
       "        PreferedOrderCat  SatisfactionScore MaritalStatus  NumberOfAddress  \\\n",
       "0     Laptop & Accessory                  2        Single                9   \n",
       "1                 Mobile                  3        Single                7   \n",
       "2                 Mobile                  3        Single                6   \n",
       "3     Laptop & Accessory                  5        Single                8   \n",
       "4                 Mobile                  5        Single                3   \n",
       "...                  ...                ...           ...              ...   \n",
       "5625  Laptop & Accessory                  1       Married                6   \n",
       "5626             Fashion                  5       Married                6   \n",
       "5627  Laptop & Accessory                  4       Married                3   \n",
       "5628  Laptop & Accessory                  4       Married                4   \n",
       "5629  Laptop & Accessory                  3       Married                4   \n",
       "\n",
       "      Complain  OrderAmountHikeFromlastYear  CouponUsed  OrderCount  \\\n",
       "0            1                         11.0         1.0         1.0   \n",
       "1            1                         15.0         0.0         1.0   \n",
       "2            1                         14.0         0.0         1.0   \n",
       "3            0                         23.0         0.0         1.0   \n",
       "4            0                         11.0         1.0         1.0   \n",
       "...        ...                          ...         ...         ...   \n",
       "5625         0                         18.0         1.0         2.0   \n",
       "5626         0                         16.0         1.0         2.0   \n",
       "5627         1                         21.0         1.0         2.0   \n",
       "5628         0                         15.0         2.0         2.0   \n",
       "5629         0                         13.0         2.0         2.0   \n",
       "\n",
       "      DaySinceLastOrder  CashbackAmount  \n",
       "0                   5.0          159.93  \n",
       "1                   0.0          120.90  \n",
       "2                   3.0          120.28  \n",
       "3                   3.0          134.07  \n",
       "4                   3.0          129.60  \n",
       "...                 ...             ...  \n",
       "5625                4.0          150.71  \n",
       "5626                NaN          224.91  \n",
       "5627                4.0          186.42  \n",
       "5628                9.0          178.90  \n",
       "5629                3.0          169.04  \n",
       "\n",
       "[5630 rows x 19 columns]"
      ]
     },
     "execution_count": 4,
     "metadata": {},
     "output_type": "execute_result"
    }
   ],
   "source": [
    "df"
   ]
  },
  {
   "cell_type": "code",
   "execution_count": 5,
   "metadata": {},
   "outputs": [
    {
     "data": {
      "text/plain": [
       "Churn\n",
       "0    4682\n",
       "1     948\n",
       "Name: count, dtype: int64"
      ]
     },
     "execution_count": 5,
     "metadata": {},
     "output_type": "execute_result"
    }
   ],
   "source": [
    "df['Churn'].value_counts()"
   ]
  },
  {
   "cell_type": "code",
   "execution_count": 6,
   "metadata": {},
   "outputs": [
    {
     "data": {
      "text/plain": [
       "Churn                            0\n",
       "Tenure                         264\n",
       "PreferredLoginDevice             0\n",
       "CityTier                         0\n",
       "WarehouseToHome                251\n",
       "PreferredPaymentMode             0\n",
       "Gender                           0\n",
       "HourSpendOnApp                 255\n",
       "NumberOfDeviceRegistered         0\n",
       "PreferedOrderCat                 0\n",
       "SatisfactionScore                0\n",
       "MaritalStatus                    0\n",
       "NumberOfAddress                  0\n",
       "Complain                         0\n",
       "OrderAmountHikeFromlastYear    265\n",
       "CouponUsed                     256\n",
       "OrderCount                     258\n",
       "DaySinceLastOrder              307\n",
       "CashbackAmount                   0\n",
       "dtype: int64"
      ]
     },
     "execution_count": 6,
     "metadata": {},
     "output_type": "execute_result"
    }
   ],
   "source": [
    "df.isna().sum()"
   ]
  },
  {
   "cell_type": "code",
   "execution_count": 9,
   "metadata": {},
   "outputs": [
    {
     "name": "stdout",
     "output_type": "stream",
     "text": [
      "The most frequent values of Tenure column: 1.0\n",
      "The most frequent values of WarehouseToHome column: 9.0\n",
      "The most frequent values of HourSpendOnApp column: 3.0\n",
      "The most frequent values of OrderAmountHikeFromlastYear column: 14.0\n",
      "The most frequent values of CouponUsed column: 1.0\n",
      "The most frequent values of OrderCount column: 2.0\n",
      "The most frequent values of DaySinceLastOrder column: 3.0\n"
     ]
    }
   ],
   "source": [
    "print('The most frequent values of Tenure column:', df['Tenure'].mode()[0])\n",
    "print('The most frequent values of WarehouseToHome column:', df['WarehouseToHome'].mode()[0])\n",
    "print('The most frequent values of HourSpendOnApp column:', df['HourSpendOnApp'].mode()[0])\n",
    "print('The most frequent values of OrderAmountHikeFromlastYear column:', df['OrderAmountHikeFromlastYear'].mode()[0])\n",
    "print('The most frequent values of CouponUsed column:', df['CouponUsed'].mode()[0])\n",
    "print('The most frequent values of OrderCount column:', df['OrderCount'].mode()[0])\n",
    "print('The most frequent values of DaySinceLastOrder column:', df['DaySinceLastOrder'].mode()[0])\n",
    "\n",
    "df['Tenure'] = df['Tenure'].fillna(df['Tenure'].mode()[0])\n",
    "df['WarehouseToHome'] = df['WarehouseToHome'].fillna(df['WarehouseToHome'].mode()[0])\n",
    "df['HourSpendOnApp'] = df['HourSpendOnApp'].fillna(df['HourSpendOnApp'].mode()[0])\n",
    "df['OrderAmountHikeFromlastYear'] = df['OrderAmountHikeFromlastYear'].fillna(df['OrderAmountHikeFromlastYear'].mode()[0])\n",
    "df['CouponUsed'] = df['CouponUsed'].fillna(df['CouponUsed'].mode()[0])\n",
    "df['OrderCount'] = df['OrderCount'].fillna(df['OrderCount'].mode()[0])\n",
    "df['DaySinceLastOrder'] = df['DaySinceLastOrder'].fillna(df['DaySinceLastOrder'].mode()[0])"
   ]
  },
  {
   "cell_type": "code",
   "execution_count": 10,
   "metadata": {},
   "outputs": [
    {
     "data": {
      "text/plain": [
       "Churn                          0\n",
       "Tenure                         0\n",
       "PreferredLoginDevice           0\n",
       "CityTier                       0\n",
       "WarehouseToHome                0\n",
       "PreferredPaymentMode           0\n",
       "Gender                         0\n",
       "HourSpendOnApp                 0\n",
       "NumberOfDeviceRegistered       0\n",
       "PreferedOrderCat               0\n",
       "SatisfactionScore              0\n",
       "MaritalStatus                  0\n",
       "NumberOfAddress                0\n",
       "Complain                       0\n",
       "OrderAmountHikeFromlastYear    0\n",
       "CouponUsed                     0\n",
       "OrderCount                     0\n",
       "DaySinceLastOrder              0\n",
       "CashbackAmount                 0\n",
       "dtype: int64"
      ]
     },
     "execution_count": 10,
     "metadata": {},
     "output_type": "execute_result"
    }
   ],
   "source": [
    "df.isna().sum()"
   ]
  },
  {
   "cell_type": "code",
   "execution_count": 11,
   "metadata": {},
   "outputs": [
    {
     "data": {
      "text/html": [
       "<div>\n",
       "<style scoped>\n",
       "    .dataframe tbody tr th:only-of-type {\n",
       "        vertical-align: middle;\n",
       "    }\n",
       "\n",
       "    .dataframe tbody tr th {\n",
       "        vertical-align: top;\n",
       "    }\n",
       "\n",
       "    .dataframe thead th {\n",
       "        text-align: right;\n",
       "    }\n",
       "</style>\n",
       "<table border=\"1\" class=\"dataframe\">\n",
       "  <thead>\n",
       "    <tr style=\"text-align: right;\">\n",
       "      <th></th>\n",
       "      <th>Churn</th>\n",
       "      <th>Tenure</th>\n",
       "      <th>PreferredLoginDevice</th>\n",
       "      <th>CityTier</th>\n",
       "      <th>WarehouseToHome</th>\n",
       "      <th>PreferredPaymentMode</th>\n",
       "      <th>Gender</th>\n",
       "      <th>HourSpendOnApp</th>\n",
       "      <th>NumberOfDeviceRegistered</th>\n",
       "      <th>PreferedOrderCat</th>\n",
       "      <th>SatisfactionScore</th>\n",
       "      <th>MaritalStatus</th>\n",
       "      <th>NumberOfAddress</th>\n",
       "      <th>Complain</th>\n",
       "      <th>OrderAmountHikeFromlastYear</th>\n",
       "      <th>CouponUsed</th>\n",
       "      <th>OrderCount</th>\n",
       "      <th>DaySinceLastOrder</th>\n",
       "      <th>CashbackAmount</th>\n",
       "    </tr>\n",
       "  </thead>\n",
       "  <tbody>\n",
       "    <tr>\n",
       "      <th>0</th>\n",
       "      <td>1</td>\n",
       "      <td>4.0</td>\n",
       "      <td>Mobile Phone</td>\n",
       "      <td>3</td>\n",
       "      <td>6.0</td>\n",
       "      <td>Debit Card</td>\n",
       "      <td>Female</td>\n",
       "      <td>3.0</td>\n",
       "      <td>3</td>\n",
       "      <td>Laptop &amp; Accessory</td>\n",
       "      <td>2</td>\n",
       "      <td>Single</td>\n",
       "      <td>9</td>\n",
       "      <td>1</td>\n",
       "      <td>11.0</td>\n",
       "      <td>1.0</td>\n",
       "      <td>1.0</td>\n",
       "      <td>5.0</td>\n",
       "      <td>159.93</td>\n",
       "    </tr>\n",
       "    <tr>\n",
       "      <th>1</th>\n",
       "      <td>1</td>\n",
       "      <td>1.0</td>\n",
       "      <td>Phone</td>\n",
       "      <td>1</td>\n",
       "      <td>8.0</td>\n",
       "      <td>UPI</td>\n",
       "      <td>Male</td>\n",
       "      <td>3.0</td>\n",
       "      <td>4</td>\n",
       "      <td>Mobile</td>\n",
       "      <td>3</td>\n",
       "      <td>Single</td>\n",
       "      <td>7</td>\n",
       "      <td>1</td>\n",
       "      <td>15.0</td>\n",
       "      <td>0.0</td>\n",
       "      <td>1.0</td>\n",
       "      <td>0.0</td>\n",
       "      <td>120.90</td>\n",
       "    </tr>\n",
       "    <tr>\n",
       "      <th>2</th>\n",
       "      <td>1</td>\n",
       "      <td>1.0</td>\n",
       "      <td>Phone</td>\n",
       "      <td>1</td>\n",
       "      <td>30.0</td>\n",
       "      <td>Debit Card</td>\n",
       "      <td>Male</td>\n",
       "      <td>2.0</td>\n",
       "      <td>4</td>\n",
       "      <td>Mobile</td>\n",
       "      <td>3</td>\n",
       "      <td>Single</td>\n",
       "      <td>6</td>\n",
       "      <td>1</td>\n",
       "      <td>14.0</td>\n",
       "      <td>0.0</td>\n",
       "      <td>1.0</td>\n",
       "      <td>3.0</td>\n",
       "      <td>120.28</td>\n",
       "    </tr>\n",
       "    <tr>\n",
       "      <th>3</th>\n",
       "      <td>1</td>\n",
       "      <td>0.0</td>\n",
       "      <td>Phone</td>\n",
       "      <td>3</td>\n",
       "      <td>15.0</td>\n",
       "      <td>Debit Card</td>\n",
       "      <td>Male</td>\n",
       "      <td>2.0</td>\n",
       "      <td>4</td>\n",
       "      <td>Laptop &amp; Accessory</td>\n",
       "      <td>5</td>\n",
       "      <td>Single</td>\n",
       "      <td>8</td>\n",
       "      <td>0</td>\n",
       "      <td>23.0</td>\n",
       "      <td>0.0</td>\n",
       "      <td>1.0</td>\n",
       "      <td>3.0</td>\n",
       "      <td>134.07</td>\n",
       "    </tr>\n",
       "    <tr>\n",
       "      <th>4</th>\n",
       "      <td>1</td>\n",
       "      <td>0.0</td>\n",
       "      <td>Phone</td>\n",
       "      <td>1</td>\n",
       "      <td>12.0</td>\n",
       "      <td>CC</td>\n",
       "      <td>Male</td>\n",
       "      <td>3.0</td>\n",
       "      <td>3</td>\n",
       "      <td>Mobile</td>\n",
       "      <td>5</td>\n",
       "      <td>Single</td>\n",
       "      <td>3</td>\n",
       "      <td>0</td>\n",
       "      <td>11.0</td>\n",
       "      <td>1.0</td>\n",
       "      <td>1.0</td>\n",
       "      <td>3.0</td>\n",
       "      <td>129.60</td>\n",
       "    </tr>\n",
       "  </tbody>\n",
       "</table>\n",
       "</div>"
      ],
      "text/plain": [
       "   Churn  Tenure PreferredLoginDevice  CityTier  WarehouseToHome  \\\n",
       "0      1     4.0         Mobile Phone         3              6.0   \n",
       "1      1     1.0                Phone         1              8.0   \n",
       "2      1     1.0                Phone         1             30.0   \n",
       "3      1     0.0                Phone         3             15.0   \n",
       "4      1     0.0                Phone         1             12.0   \n",
       "\n",
       "  PreferredPaymentMode  Gender  HourSpendOnApp  NumberOfDeviceRegistered  \\\n",
       "0           Debit Card  Female             3.0                         3   \n",
       "1                  UPI    Male             3.0                         4   \n",
       "2           Debit Card    Male             2.0                         4   \n",
       "3           Debit Card    Male             2.0                         4   \n",
       "4                   CC    Male             3.0                         3   \n",
       "\n",
       "     PreferedOrderCat  SatisfactionScore MaritalStatus  NumberOfAddress  \\\n",
       "0  Laptop & Accessory                  2        Single                9   \n",
       "1              Mobile                  3        Single                7   \n",
       "2              Mobile                  3        Single                6   \n",
       "3  Laptop & Accessory                  5        Single                8   \n",
       "4              Mobile                  5        Single                3   \n",
       "\n",
       "   Complain  OrderAmountHikeFromlastYear  CouponUsed  OrderCount  \\\n",
       "0         1                         11.0         1.0         1.0   \n",
       "1         1                         15.0         0.0         1.0   \n",
       "2         1                         14.0         0.0         1.0   \n",
       "3         0                         23.0         0.0         1.0   \n",
       "4         0                         11.0         1.0         1.0   \n",
       "\n",
       "   DaySinceLastOrder  CashbackAmount  \n",
       "0                5.0          159.93  \n",
       "1                0.0          120.90  \n",
       "2                3.0          120.28  \n",
       "3                3.0          134.07  \n",
       "4                3.0          129.60  "
      ]
     },
     "execution_count": 11,
     "metadata": {},
     "output_type": "execute_result"
    }
   ],
   "source": [
    "df.head()"
   ]
  },
  {
   "cell_type": "code",
   "execution_count": 12,
   "metadata": {},
   "outputs": [],
   "source": [
    "col_to_encode = []\n",
    "for i in df.columns:\n",
    "    if df[i].dtype == 'object':\n",
    "        col_to_encode.append(i)"
   ]
  },
  {
   "cell_type": "code",
   "execution_count": 13,
   "metadata": {},
   "outputs": [],
   "source": [
    "from sklearn.preprocessing import OneHotEncoder, StandardScaler\n",
    "from sklearn.model_selection import train_test_split"
   ]
  },
  {
   "cell_type": "code",
   "execution_count": 14,
   "metadata": {},
   "outputs": [],
   "source": [
    "encoder = OneHotEncoder(sparse=False, drop='first')"
   ]
  },
  {
   "cell_type": "code",
   "execution_count": 15,
   "metadata": {},
   "outputs": [
    {
     "name": "stderr",
     "output_type": "stream",
     "text": [
      "/Users/mohamedaminemrabet/miniforge3/envs/deep/lib/python3.9/site-packages/sklearn/preprocessing/_encoders.py:972: FutureWarning: `sparse` was renamed to `sparse_output` in version 1.2 and will be removed in 1.4. `sparse_output` is ignored unless you leave `sparse` to its default value.\n",
      "  warnings.warn(\n"
     ]
    }
   ],
   "source": [
    "encoded_data = encoder.fit_transform(df[col_to_encode])"
   ]
  },
  {
   "cell_type": "code",
   "execution_count": 16,
   "metadata": {},
   "outputs": [],
   "source": [
    "encoded_df = pd.DataFrame(encoded_data, columns=encoder.get_feature_names_out(col_to_encode))"
   ]
  },
  {
   "cell_type": "code",
   "execution_count": 17,
   "metadata": {},
   "outputs": [],
   "source": [
    "df_encoded = pd.concat([df.drop(columns=col_to_encode), encoded_df], axis=1)"
   ]
  },
  {
   "cell_type": "code",
   "execution_count": 18,
   "metadata": {},
   "outputs": [
    {
     "data": {
      "text/html": [
       "<div>\n",
       "<style scoped>\n",
       "    .dataframe tbody tr th:only-of-type {\n",
       "        vertical-align: middle;\n",
       "    }\n",
       "\n",
       "    .dataframe tbody tr th {\n",
       "        vertical-align: top;\n",
       "    }\n",
       "\n",
       "    .dataframe thead th {\n",
       "        text-align: right;\n",
       "    }\n",
       "</style>\n",
       "<table border=\"1\" class=\"dataframe\">\n",
       "  <thead>\n",
       "    <tr style=\"text-align: right;\">\n",
       "      <th></th>\n",
       "      <th>Churn</th>\n",
       "      <th>Tenure</th>\n",
       "      <th>CityTier</th>\n",
       "      <th>WarehouseToHome</th>\n",
       "      <th>HourSpendOnApp</th>\n",
       "      <th>NumberOfDeviceRegistered</th>\n",
       "      <th>SatisfactionScore</th>\n",
       "      <th>NumberOfAddress</th>\n",
       "      <th>Complain</th>\n",
       "      <th>OrderAmountHikeFromlastYear</th>\n",
       "      <th>...</th>\n",
       "      <th>PreferredPaymentMode_E wallet</th>\n",
       "      <th>PreferredPaymentMode_UPI</th>\n",
       "      <th>Gender_Male</th>\n",
       "      <th>PreferedOrderCat_Grocery</th>\n",
       "      <th>PreferedOrderCat_Laptop &amp; Accessory</th>\n",
       "      <th>PreferedOrderCat_Mobile</th>\n",
       "      <th>PreferedOrderCat_Mobile Phone</th>\n",
       "      <th>PreferedOrderCat_Others</th>\n",
       "      <th>MaritalStatus_Married</th>\n",
       "      <th>MaritalStatus_Single</th>\n",
       "    </tr>\n",
       "  </thead>\n",
       "  <tbody>\n",
       "    <tr>\n",
       "      <th>0</th>\n",
       "      <td>1</td>\n",
       "      <td>4.0</td>\n",
       "      <td>3</td>\n",
       "      <td>6.0</td>\n",
       "      <td>3.0</td>\n",
       "      <td>3</td>\n",
       "      <td>2</td>\n",
       "      <td>9</td>\n",
       "      <td>1</td>\n",
       "      <td>11.0</td>\n",
       "      <td>...</td>\n",
       "      <td>0.0</td>\n",
       "      <td>0.0</td>\n",
       "      <td>0.0</td>\n",
       "      <td>0.0</td>\n",
       "      <td>1.0</td>\n",
       "      <td>0.0</td>\n",
       "      <td>0.0</td>\n",
       "      <td>0.0</td>\n",
       "      <td>0.0</td>\n",
       "      <td>1.0</td>\n",
       "    </tr>\n",
       "    <tr>\n",
       "      <th>1</th>\n",
       "      <td>1</td>\n",
       "      <td>1.0</td>\n",
       "      <td>1</td>\n",
       "      <td>8.0</td>\n",
       "      <td>3.0</td>\n",
       "      <td>4</td>\n",
       "      <td>3</td>\n",
       "      <td>7</td>\n",
       "      <td>1</td>\n",
       "      <td>15.0</td>\n",
       "      <td>...</td>\n",
       "      <td>0.0</td>\n",
       "      <td>1.0</td>\n",
       "      <td>1.0</td>\n",
       "      <td>0.0</td>\n",
       "      <td>0.0</td>\n",
       "      <td>1.0</td>\n",
       "      <td>0.0</td>\n",
       "      <td>0.0</td>\n",
       "      <td>0.0</td>\n",
       "      <td>1.0</td>\n",
       "    </tr>\n",
       "    <tr>\n",
       "      <th>2</th>\n",
       "      <td>1</td>\n",
       "      <td>1.0</td>\n",
       "      <td>1</td>\n",
       "      <td>30.0</td>\n",
       "      <td>2.0</td>\n",
       "      <td>4</td>\n",
       "      <td>3</td>\n",
       "      <td>6</td>\n",
       "      <td>1</td>\n",
       "      <td>14.0</td>\n",
       "      <td>...</td>\n",
       "      <td>0.0</td>\n",
       "      <td>0.0</td>\n",
       "      <td>1.0</td>\n",
       "      <td>0.0</td>\n",
       "      <td>0.0</td>\n",
       "      <td>1.0</td>\n",
       "      <td>0.0</td>\n",
       "      <td>0.0</td>\n",
       "      <td>0.0</td>\n",
       "      <td>1.0</td>\n",
       "    </tr>\n",
       "    <tr>\n",
       "      <th>3</th>\n",
       "      <td>1</td>\n",
       "      <td>0.0</td>\n",
       "      <td>3</td>\n",
       "      <td>15.0</td>\n",
       "      <td>2.0</td>\n",
       "      <td>4</td>\n",
       "      <td>5</td>\n",
       "      <td>8</td>\n",
       "      <td>0</td>\n",
       "      <td>23.0</td>\n",
       "      <td>...</td>\n",
       "      <td>0.0</td>\n",
       "      <td>0.0</td>\n",
       "      <td>1.0</td>\n",
       "      <td>0.0</td>\n",
       "      <td>1.0</td>\n",
       "      <td>0.0</td>\n",
       "      <td>0.0</td>\n",
       "      <td>0.0</td>\n",
       "      <td>0.0</td>\n",
       "      <td>1.0</td>\n",
       "    </tr>\n",
       "    <tr>\n",
       "      <th>4</th>\n",
       "      <td>1</td>\n",
       "      <td>0.0</td>\n",
       "      <td>1</td>\n",
       "      <td>12.0</td>\n",
       "      <td>3.0</td>\n",
       "      <td>3</td>\n",
       "      <td>5</td>\n",
       "      <td>3</td>\n",
       "      <td>0</td>\n",
       "      <td>11.0</td>\n",
       "      <td>...</td>\n",
       "      <td>0.0</td>\n",
       "      <td>0.0</td>\n",
       "      <td>1.0</td>\n",
       "      <td>0.0</td>\n",
       "      <td>0.0</td>\n",
       "      <td>1.0</td>\n",
       "      <td>0.0</td>\n",
       "      <td>0.0</td>\n",
       "      <td>0.0</td>\n",
       "      <td>1.0</td>\n",
       "    </tr>\n",
       "  </tbody>\n",
       "</table>\n",
       "<p>5 rows × 30 columns</p>\n",
       "</div>"
      ],
      "text/plain": [
       "   Churn  Tenure  CityTier  WarehouseToHome  HourSpendOnApp  \\\n",
       "0      1     4.0         3              6.0             3.0   \n",
       "1      1     1.0         1              8.0             3.0   \n",
       "2      1     1.0         1             30.0             2.0   \n",
       "3      1     0.0         3             15.0             2.0   \n",
       "4      1     0.0         1             12.0             3.0   \n",
       "\n",
       "   NumberOfDeviceRegistered  SatisfactionScore  NumberOfAddress  Complain  \\\n",
       "0                         3                  2                9         1   \n",
       "1                         4                  3                7         1   \n",
       "2                         4                  3                6         1   \n",
       "3                         4                  5                8         0   \n",
       "4                         3                  5                3         0   \n",
       "\n",
       "   OrderAmountHikeFromlastYear  ...  PreferredPaymentMode_E wallet  \\\n",
       "0                         11.0  ...                            0.0   \n",
       "1                         15.0  ...                            0.0   \n",
       "2                         14.0  ...                            0.0   \n",
       "3                         23.0  ...                            0.0   \n",
       "4                         11.0  ...                            0.0   \n",
       "\n",
       "   PreferredPaymentMode_UPI  Gender_Male  PreferedOrderCat_Grocery  \\\n",
       "0                       0.0          0.0                       0.0   \n",
       "1                       1.0          1.0                       0.0   \n",
       "2                       0.0          1.0                       0.0   \n",
       "3                       0.0          1.0                       0.0   \n",
       "4                       0.0          1.0                       0.0   \n",
       "\n",
       "   PreferedOrderCat_Laptop & Accessory  PreferedOrderCat_Mobile  \\\n",
       "0                                  1.0                      0.0   \n",
       "1                                  0.0                      1.0   \n",
       "2                                  0.0                      1.0   \n",
       "3                                  1.0                      0.0   \n",
       "4                                  0.0                      1.0   \n",
       "\n",
       "   PreferedOrderCat_Mobile Phone  PreferedOrderCat_Others  \\\n",
       "0                            0.0                      0.0   \n",
       "1                            0.0                      0.0   \n",
       "2                            0.0                      0.0   \n",
       "3                            0.0                      0.0   \n",
       "4                            0.0                      0.0   \n",
       "\n",
       "   MaritalStatus_Married  MaritalStatus_Single  \n",
       "0                    0.0                   1.0  \n",
       "1                    0.0                   1.0  \n",
       "2                    0.0                   1.0  \n",
       "3                    0.0                   1.0  \n",
       "4                    0.0                   1.0  \n",
       "\n",
       "[5 rows x 30 columns]"
      ]
     },
     "execution_count": 18,
     "metadata": {},
     "output_type": "execute_result"
    }
   ],
   "source": [
    "df_encoded.head()"
   ]
  },
  {
   "cell_type": "code",
   "execution_count": 19,
   "metadata": {},
   "outputs": [],
   "source": [
    "X = df_encoded.drop(columns=['Churn'])\n",
    "y = df_encoded['Churn']"
   ]
  },
  {
   "cell_type": "code",
   "execution_count": 20,
   "metadata": {},
   "outputs": [],
   "source": [
    "X_train, X_test, y_train, y_test = train_test_split(X, y,  test_size=.2, random_state=42)"
   ]
  },
  {
   "cell_type": "code",
   "execution_count": 21,
   "metadata": {},
   "outputs": [],
   "source": [
    "scaler = StandardScaler()"
   ]
  },
  {
   "cell_type": "code",
   "execution_count": 22,
   "metadata": {},
   "outputs": [],
   "source": [
    "X_train = scaler.fit_transform(X_train)\n",
    "\n",
    "# X_train = scaler.transform(X_train)\n",
    "X_test = scaler.transform(X_test)"
   ]
  },
  {
   "cell_type": "code",
   "execution_count": 24,
   "metadata": {},
   "outputs": [],
   "source": [
    "import numpy as np\n",
    "from sklearn.metrics import accuracy_score, f1_score, roc_auc_score\n",
    "from sklearn.linear_model import LogisticRegression\n",
    "from sklearn.svm import SVC\n",
    "from sklearn.tree import DecisionTreeClassifier\n",
    "from sklearn.ensemble import RandomForestClassifier, GradientBoostingClassifier\n",
    "from sklearn.neighbors import KNeighborsClassifier\n",
    "from sklearn.naive_bayes import GaussianNB\n",
    "from xgboost import XGBClassifier\n",
    "from joblib import load, dump"
   ]
  },
  {
   "cell_type": "code",
   "execution_count": 25,
   "metadata": {},
   "outputs": [],
   "source": [
    "models = {\n",
    "    'Logistic Regression': LogisticRegression(),\n",
    "    'SVM': SVC(probability=True),\n",
    "    'Decision Tree': DecisionTreeClassifier(),\n",
    "    'Random Forest': RandomForestClassifier(),\n",
    "    'Gradient Boosting': GradientBoostingClassifier(),\n",
    "    'KNN': KNeighborsClassifier(),\n",
    "    'Naive Bayes': GaussianNB(),\n",
    "    'XGBoost': XGBClassifier()\n",
    "}"
   ]
  },
  {
   "cell_type": "code",
   "execution_count": 46,
   "metadata": {},
   "outputs": [],
   "source": [
    "import mlflow\n",
    "import mlflow.sklearn\n",
    "from mlflow.models.signature import infer_signature"
   ]
  },
  {
   "cell_type": "code",
   "execution_count": 44,
   "metadata": {},
   "outputs": [
    {
     "name": "stderr",
     "output_type": "stream",
     "text": [
      "2024/10/29 01:22:17 INFO mlflow.tracking.fluent: Experiment with name 'AI-Meth 1st Xp' does not exist. Creating a new experiment.\n"
     ]
    },
    {
     "data": {
      "text/plain": [
       "<Experiment: artifact_location='/Users/mohamedaminemrabet/Documents/EPITA/AI-Meth/Project/mlruns/149679162216026815', creation_time=1730161337970, experiment_id='149679162216026815', last_update_time=1730161337970, lifecycle_stage='active', name='AI-Meth 1st Xp', tags={}>"
      ]
     },
     "execution_count": 44,
     "metadata": {},
     "output_type": "execute_result"
    }
   ],
   "source": [
    "experiment_name = \"AI-Meth 1st Xp\"\n",
    "mlflow.set_experiment(experiment_name)"
   ]
  },
  {
   "cell_type": "code",
   "execution_count": 45,
   "metadata": {},
   "outputs": [],
   "source": [
    "mlflow.set_tracking_uri(\"/Users/mohamedaminemrabet/Documents/EPITA/AI-Meth/Project/mlruns\")"
   ]
  },
  {
   "cell_type": "code",
   "execution_count": 47,
   "metadata": {},
   "outputs": [
    {
     "data": {
      "application/vnd.jupyter.widget-view+json": {
       "model_id": "6878ca8a32c948de8c6f5a0b27bf5a51",
       "version_major": 2,
       "version_minor": 0
      },
      "text/plain": [
       "Downloading artifacts:   0%|          | 0/7 [00:00<?, ?it/s]"
      ]
     },
     "metadata": {},
     "output_type": "display_data"
    },
    {
     "data": {
      "application/vnd.jupyter.widget-view+json": {
       "model_id": "5f5d7bdada5e4aaa869d902ced4b4ffa",
       "version_major": 2,
       "version_minor": 0
      },
      "text/plain": [
       "Downloading artifacts:   0%|          | 0/7 [00:00<?, ?it/s]"
      ]
     },
     "metadata": {},
     "output_type": "display_data"
    },
    {
     "data": {
      "application/vnd.jupyter.widget-view+json": {
       "model_id": "bd831200b8c04e4391c47b703a46a7da",
       "version_major": 2,
       "version_minor": 0
      },
      "text/plain": [
       "Downloading artifacts:   0%|          | 0/7 [00:00<?, ?it/s]"
      ]
     },
     "metadata": {},
     "output_type": "display_data"
    },
    {
     "data": {
      "application/vnd.jupyter.widget-view+json": {
       "model_id": "65ea38e9009b4b1ebdae8cfb9357638c",
       "version_major": 2,
       "version_minor": 0
      },
      "text/plain": [
       "Downloading artifacts:   0%|          | 0/7 [00:00<?, ?it/s]"
      ]
     },
     "metadata": {},
     "output_type": "display_data"
    },
    {
     "data": {
      "application/vnd.jupyter.widget-view+json": {
       "model_id": "dd5e0f8a1b9849beb6bc1983ccbf99f5",
       "version_major": 2,
       "version_minor": 0
      },
      "text/plain": [
       "Downloading artifacts:   0%|          | 0/7 [00:00<?, ?it/s]"
      ]
     },
     "metadata": {},
     "output_type": "display_data"
    },
    {
     "data": {
      "application/vnd.jupyter.widget-view+json": {
       "model_id": "af4b77da872a47b2ba36e45186a1a3a9",
       "version_major": 2,
       "version_minor": 0
      },
      "text/plain": [
       "Downloading artifacts:   0%|          | 0/7 [00:00<?, ?it/s]"
      ]
     },
     "metadata": {},
     "output_type": "display_data"
    },
    {
     "data": {
      "application/vnd.jupyter.widget-view+json": {
       "model_id": "7f9d2a487d9c4b8aaaa2e6063001c026",
       "version_major": 2,
       "version_minor": 0
      },
      "text/plain": [
       "Downloading artifacts:   0%|          | 0/7 [00:00<?, ?it/s]"
      ]
     },
     "metadata": {},
     "output_type": "display_data"
    },
    {
     "data": {
      "application/vnd.jupyter.widget-view+json": {
       "model_id": "72f9354d6c2c4ed5909cff0141b770ae",
       "version_major": 2,
       "version_minor": 0
      },
      "text/plain": [
       "Downloading artifacts:   0%|          | 0/7 [00:00<?, ?it/s]"
      ]
     },
     "metadata": {},
     "output_type": "display_data"
    }
   ],
   "source": [
    "results = []\n",
    "\n",
    "# Train each model, make predictions, and evaluate performance\n",
    "for model_name, model in models.items():\n",
    "    with mlflow.start_run(run_name=model_name):\n",
    "        # Log model parameters if applicable\n",
    "        if hasattr(model, \"get_params\"):\n",
    "            mlflow.log_params(model.get_params())\n",
    "        \n",
    "        # Train model\n",
    "        model.fit(X_train, y_train)\n",
    "\n",
    "        \n",
    "\n",
    "        # Save the model to a file and log it as an artifact\n",
    "        model_path = f\"../models/{model_name}.joblib\"\n",
    "        dump(model, model_path)\n",
    "        # mlflow.log_artifact(model_path, artifact_path=\"models\")\n",
    "        \n",
    "        # Make predictions\n",
    "        y_pred = model.predict(X_test)\n",
    "        y_pred_proba = model.predict_proba(X_test)[:, 1] if hasattr(model, \"predict_proba\") else np.zeros(len(y_test))\n",
    "\n",
    "        signature = infer_signature(X_test, y_pred)\n",
    "\n",
    "        mlflow.sklearn.log_model(model, model_name, signature=signature, input_example=X_train)\n",
    "        \n",
    "        # Calculate metrics\n",
    "        accuracy = accuracy_score(y_test, y_pred)\n",
    "        f1 = f1_score(y_test, y_pred)\n",
    "        roc_auc = roc_auc_score(y_test, y_pred_proba)\n",
    "        \n",
    "        # Log metrics\n",
    "        mlflow.log_metric(\"Accuracy\", accuracy)\n",
    "        mlflow.log_metric(\"F1 Score\", f1)\n",
    "        mlflow.log_metric(\"ROC AUC\", roc_auc)\n",
    "        \n",
    "        # Append results for summary table\n",
    "        results.append({\n",
    "            'Model': model_name,\n",
    "            'Accuracy': accuracy,\n",
    "            'F1 Score': f1,\n",
    "            'ROC AUC': roc_auc\n",
    "        })"
   ]
  },
  {
   "cell_type": "code",
   "execution_count": 28,
   "metadata": {},
   "outputs": [],
   "source": [
    "results_df = pd.DataFrame(results)\n",
    "results_df = results_df.sort_values(by='ROC AUC', ascending=False).reset_index(drop=True)\n",
    "results_df[['Accuracy', 'F1 Score', 'ROC AUC']] = results_df[['Accuracy', 'F1 Score', 'ROC AUC']].round(2)"
   ]
  },
  {
   "cell_type": "code",
   "execution_count": 29,
   "metadata": {},
   "outputs": [
    {
     "data": {
      "text/html": [
       "<div>\n",
       "<style scoped>\n",
       "    .dataframe tbody tr th:only-of-type {\n",
       "        vertical-align: middle;\n",
       "    }\n",
       "\n",
       "    .dataframe tbody tr th {\n",
       "        vertical-align: top;\n",
       "    }\n",
       "\n",
       "    .dataframe thead th {\n",
       "        text-align: right;\n",
       "    }\n",
       "</style>\n",
       "<table border=\"1\" class=\"dataframe\">\n",
       "  <thead>\n",
       "    <tr style=\"text-align: right;\">\n",
       "      <th></th>\n",
       "      <th>Model</th>\n",
       "      <th>Accuracy</th>\n",
       "      <th>F1 Score</th>\n",
       "      <th>ROC AUC</th>\n",
       "    </tr>\n",
       "  </thead>\n",
       "  <tbody>\n",
       "    <tr>\n",
       "      <th>0</th>\n",
       "      <td>Random Forest</td>\n",
       "      <td>0.98</td>\n",
       "      <td>0.93</td>\n",
       "      <td>0.99</td>\n",
       "    </tr>\n",
       "    <tr>\n",
       "      <th>1</th>\n",
       "      <td>XGBoost</td>\n",
       "      <td>0.98</td>\n",
       "      <td>0.93</td>\n",
       "      <td>0.98</td>\n",
       "    </tr>\n",
       "    <tr>\n",
       "      <th>2</th>\n",
       "      <td>SVM</td>\n",
       "      <td>0.93</td>\n",
       "      <td>0.74</td>\n",
       "      <td>0.94</td>\n",
       "    </tr>\n",
       "    <tr>\n",
       "      <th>3</th>\n",
       "      <td>Gradient Boosting</td>\n",
       "      <td>0.93</td>\n",
       "      <td>0.78</td>\n",
       "      <td>0.94</td>\n",
       "    </tr>\n",
       "    <tr>\n",
       "      <th>4</th>\n",
       "      <td>Decision Tree</td>\n",
       "      <td>0.97</td>\n",
       "      <td>0.90</td>\n",
       "      <td>0.94</td>\n",
       "    </tr>\n",
       "    <tr>\n",
       "      <th>5</th>\n",
       "      <td>KNN</td>\n",
       "      <td>0.90</td>\n",
       "      <td>0.63</td>\n",
       "      <td>0.93</td>\n",
       "    </tr>\n",
       "    <tr>\n",
       "      <th>6</th>\n",
       "      <td>Logistic Regression</td>\n",
       "      <td>0.91</td>\n",
       "      <td>0.66</td>\n",
       "      <td>0.90</td>\n",
       "    </tr>\n",
       "    <tr>\n",
       "      <th>7</th>\n",
       "      <td>Naive Bayes</td>\n",
       "      <td>0.75</td>\n",
       "      <td>0.49</td>\n",
       "      <td>0.79</td>\n",
       "    </tr>\n",
       "  </tbody>\n",
       "</table>\n",
       "</div>"
      ],
      "text/plain": [
       "                 Model  Accuracy  F1 Score  ROC AUC\n",
       "0        Random Forest      0.98      0.93     0.99\n",
       "1              XGBoost      0.98      0.93     0.98\n",
       "2                  SVM      0.93      0.74     0.94\n",
       "3    Gradient Boosting      0.93      0.78     0.94\n",
       "4        Decision Tree      0.97      0.90     0.94\n",
       "5                  KNN      0.90      0.63     0.93\n",
       "6  Logistic Regression      0.91      0.66     0.90\n",
       "7          Naive Bayes      0.75      0.49     0.79"
      ]
     },
     "execution_count": 29,
     "metadata": {},
     "output_type": "execute_result"
    }
   ],
   "source": [
    "results_df"
   ]
  },
  {
   "cell_type": "code",
   "execution_count": 75,
   "metadata": {},
   "outputs": [],
   "source": [
    "import shap\n",
    "\n",
    "# Choose a model for interpretability, e.g., Random Forest\n",
    "chosen_model = models['XGBoost']\n",
    "explainer = shap.TreeExplainer(chosen_model)\n",
    "\n",
    "# Compute SHAP values for the test set\n",
    "shap_values = explainer.shap_values(X_test)"
   ]
  },
  {
   "cell_type": "code",
   "execution_count": 81,
   "metadata": {},
   "outputs": [
    {
     "data": {
      "text/plain": [
       "-2.308039"
      ]
     },
     "execution_count": 81,
     "metadata": {},
     "output_type": "execute_result"
    }
   ],
   "source": [
    "shap_values[1][0]"
   ]
  },
  {
   "cell_type": "code",
   "execution_count": 82,
   "metadata": {},
   "outputs": [
    {
     "data": {
      "text/plain": [
       "array([-1.01470416,  1.46245865, -0.98188594,  1.50801003,  2.25845126,\n",
       "        1.40508738, -0.85387408, -0.63456938,  1.75530979,  0.1430315 ,\n",
       "       -0.3396564 , -0.96722505, -0.58830259, -0.98108472, -0.528033  ,\n",
       "        3.7568729 , -0.16685673, -0.59855072, -0.83298852, -0.3485885 ,\n",
       "       -0.2839264 , -1.24514914, -0.28117762, -0.75817226, -0.41030816,\n",
       "        1.84232091, -0.22279762, -1.06612494,  1.45943529])"
      ]
     },
     "execution_count": 82,
     "metadata": {},
     "output_type": "execute_result"
    }
   ],
   "source": [
    "X_test[0, :]"
   ]
  },
  {
   "cell_type": "code",
   "execution_count": 88,
   "metadata": {},
   "outputs": [
    {
     "data": {
      "image/png": "[encoded data removed]",
      "text/plain": [
       "<Figure size 800x650 with 3 Axes>"
      ]
     },
     "metadata": {},
     "output_type": "display_data"
    }
   ],
   "source": [
    "# Waterfall plot for the first prediction in X_test\n",
    "shap.waterfall_plot(shap.Explanation(values=shap_values[0], base_values=explainer.expected_value, data=pd.DataFrame(X_test, columns=X.columns).iloc[0, :]))"
   ]
  },
  {
   "cell_type": "code",
   "execution_count": 106,
   "metadata": {},
   "outputs": [
    {
     "data": {
      "text/html": [
       "\n",
       "<div id='i5N9XL5TKTTGB8Q9FUA4Z'>\n",
       "<div style='color: #900; text-align: center;'>\n",
       "  <b>Visualization omitted, Javascript library not loaded!</b><br>\n",
       "  Have you run `initjs()` in this notebook? If this notebook was from another\n",
       "  user you must also trust this notebook (File -> Trust notebook). If you are viewing\n",
       "  this notebook on github the Javascript has been stripped for security. If you are using\n",
       "  JupyterLab this error is because a JupyterLab extension has not yet been written.\n",
       "</div></div>\n",
       " <script>\n",
       "   if (window.SHAP) SHAP.ReactDom.render(\n",
       "    SHAP.React.createElement(SHAP.AdditiveForceArrayVisualizer, {\"outNames\": [\"f(x)\"], \"baseValue\": -2.108431339263916, \"link\": \"identity\", \"featureNames\": [\"Tenure\", \"CityTier\", \"WarehouseToHome\", \"HourSpendOnApp\", \"NumberOfDeviceRegistered\", \"SatisfactionScore\", \"NumberOfAddress\", \"Complain\", \"OrderAmountHikeFromlastYear\", \"CouponUsed\", \"OrderCount\", \"DaySinceLastOrder\", \"CashbackAmount\", \"PreferredLoginDevice_Mobile Phone\", \"PreferredLoginDevice_Phone\", \"PreferredPaymentMode_COD\", \"PreferredPaymentMode_Cash on Delivery\", \"PreferredPaymentMode_Credit Card\", \"PreferredPaymentMode_Debit Card\", \"PreferredPaymentMode_E wallet\", \"PreferredPaymentMode_UPI\", \"Gender_Male\", \"PreferedOrderCat_Grocery\", \"PreferedOrderCat_Laptop & Accessory\", \"PreferedOrderCat_Mobile\", \"PreferedOrderCat_Mobile Phone\", \"PreferedOrderCat_Others\", \"MaritalStatus_Married\", \"MaritalStatus_Single\"], \"explanations\": [{\"outValue\": 3.3350462913513184, \"simIndex\": 43.0, \"features\": {\"0\": {\"effect\": 2.8873987197875977, \"value\": -1.0147041576882907}, \"1\": {\"effect\": 1.1981334686279297, \"value\": 1.4624586475927912}, \"2\": {\"effect\": -0.8682424426078796, \"value\": -0.981885942795878}, \"3\": {\"effect\": -0.16474781930446625, \"value\": 1.508010025186811}, \"4\": {\"effect\": 1.1039057970046997, \"value\": 2.258451256909277}, \"5\": {\"effect\": 0.4632209241390228, \"value\": 1.4050873789322165}, \"6\": {\"effect\": -0.928368866443634, \"value\": -0.8538740784090303}, \"7\": {\"effect\": -1.2542943954467773, \"value\": -0.634569376322678}, \"8\": {\"effect\": 0.03427821770310402, \"value\": 1.7553097915040101}, \"9\": {\"effect\": -0.005455083679407835, \"value\": 0.1430314974901628}, \"10\": {\"effect\": -0.0046243686228990555, \"value\": -0.3396564013733443}, \"11\": {\"effect\": 0.30610236525535583, \"value\": -0.9672250543894129}, \"12\": {\"effect\": -0.21256893873214722, \"value\": -0.5883025912292611}, \"13\": {\"effect\": 0.15034177899360657, \"value\": -0.9810847227000676}, \"14\": {\"effect\": 0.2495862990617752, \"value\": -0.5280330036318513}, \"15\": {\"effect\": 1.1310319900512695, \"value\": 3.7568728964035425}, \"16\": {\"effect\": -0.026651736348867416, \"value\": -0.16685673020962713}, \"17\": {\"effect\": 0.05386371538043022, \"value\": -0.5985507225211906}, \"18\": {\"effect\": 0.004357051104307175, \"value\": -0.8329885208651995}, \"19\": {\"effect\": -0.07316138595342636, \"value\": -0.34858850271216285}, \"20\": {\"effect\": 0.02605855092406273, \"value\": -0.28392640499765853}, \"21\": {\"effect\": -0.22761744260787964, \"value\": -1.2451491380517192}, \"22\": {\"effect\": 0.0, \"value\": -0.281177618061783}, \"23\": {\"effect\": 0.3134004771709442, \"value\": -0.758172259335024}, \"24\": {\"effect\": 0.027095837518572807, \"value\": -0.4103081629534704}, \"25\": {\"effect\": 0.056212157011032104, \"value\": 1.8423209116392871}, \"26\": {\"effect\": -0.00840704794973135, \"value\": -0.22279761856768437}, \"27\": {\"effect\": 0.18622659146785736, \"value\": -1.0661249415016238}, \"28\": {\"effect\": 1.0264036655426025, \"value\": 1.4594352863719973}}}, {\"outValue\": -11.138254165649414, \"simIndex\": 29.0, \"features\": {\"0\": {\"effect\": -2.3080389499664307, \"value\": 0.6064777250794103}, \"1\": {\"effect\": -0.6245600581169128, \"value\": -0.7189997888231492}, \"2\": {\"effect\": -0.43072375655174255, \"value\": -0.7476913132858489}, \"3\": {\"effect\": 0.02395443804562092, \"value\": 0.08885474866332646}, \"4\": {\"effect\": -1.4846534729003906, \"value\": -2.6286749375364726}, \"5\": {\"effect\": -1.007482647895813, \"value\": -1.4945751890910155}, \"6\": {\"effect\": -0.7055172920227051, \"value\": -0.4651689188017661}, \"7\": {\"effect\": 0.485895574092865, \"value\": 1.575871823180293}, \"8\": {\"effect\": -0.6751118302345276, \"value\": -0.7336970195781793}, \"9\": {\"effect\": -0.0343056358397007, \"value\": -0.3960596026735971}, \"10\": {\"effect\": -0.2028423249721527, \"value\": -0.6863168209939068}, \"11\": {\"effect\": -0.4758751690387726, \"value\": -0.40394840001005994}, \"12\": {\"effect\": -0.1857559233903885, \"value\": -0.5056459537161193}, \"13\": {\"effect\": -0.04484482482075691, \"value\": 1.0192799631492326}, \"14\": {\"effect\": 0.07114071398973465, \"value\": -0.5280330036318513}, \"15\": {\"effect\": -0.022543950006365776, \"value\": -0.2661788214760475}, \"16\": {\"effect\": -0.02192833460867405, \"value\": -0.16685673020962713}, \"17\": {\"effect\": 0.02734559029340744, \"value\": -0.5985507225211906}, \"18\": {\"effect\": 0.014454600401222706, \"value\": 1.2004967354908216}, \"19\": {\"effect\": -0.059100762009620667, \"value\": -0.34858850271216285}, \"20\": {\"effect\": -0.002906852401793003, \"value\": -0.28392640499765853}, \"21\": {\"effect\": -0.08583494275808334, \"value\": -1.2451491380517192}, \"22\": {\"effect\": 0.0, \"value\": -0.281177618061783}, \"23\": {\"effect\": -0.8240995407104492, \"value\": 1.318961473052414}, \"24\": {\"effect\": -0.016040455549955368, \"value\": -0.4103081629534704}, \"25\": {\"effect\": -0.02128044329583645, \"value\": -0.5427936000087006}, \"26\": {\"effect\": -0.018921177834272385, \"value\": -0.22279761856768437}, \"27\": {\"effect\": -0.07690692692995071, \"value\": 0.9379763675648676}, \"28\": {\"effect\": -0.3233383297920227, \"value\": -0.6851965341237534}}}, {\"outValue\": -4.72710657119751, \"simIndex\": 25.0, \"features\": {\"0\": {\"effect\": -2.77459979057312, \"value\": 0.37488031325545307}, \"1\": {\"effect\": -0.4747580587863922, \"value\": -0.7189997888231492}, \"2\": {\"effect\": 0.7035320401191711, \"value\": 1.5942549818144418}, \"3\": {\"effect\": -0.03367321193218231, \"value\": 0.08885474866332646}, \"4\": {\"effect\": -0.07545846700668335, \"value\": 0.3036007791309771}, \"5\": {\"effect\": 1.0000030994415283, \"value\": 1.4050873789322165}, \"6\": {\"effect\": -0.40943458676338196, \"value\": -0.4651689188017661}, \"7\": {\"effect\": 1.4753938913345337, \"value\": 1.575871823180293}, \"8\": {\"effect\": -0.4966041147708893, \"value\": -0.4571407072357138}, \"9\": {\"effect\": -0.05327840894460678, \"value\": 0.1430314974901628}, \"10\": {\"effect\": -0.14998364448547363, \"value\": -0.3396564013733443}, \"11\": {\"effect\": -0.32965344190597534, \"value\": 1.2858815631279987}, \"12\": {\"effect\": -0.6671541929244995, \"value\": 1.1533908420833703}, \"13\": {\"effect\": -0.018271232023835182, \"value\": -0.9810847227000676}, \"14\": {\"effect\": 0.09798997640609741, \"value\": -0.5280330036318513}, \"15\": {\"effect\": -0.003052016720175743, \"value\": -0.2661788214760475}, \"16\": {\"effect\": -0.017759378999471664, \"value\": -0.16685673020962713}, \"17\": {\"effect\": -0.46828827261924744, \"value\": 1.6707021850844006}, \"18\": {\"effect\": -0.016561992466449738, \"value\": -0.8329885208651995}, \"19\": {\"effect\": -0.0824306458234787, \"value\": -0.34858850271216285}, \"20\": {\"effect\": 0.04152051731944084, \"value\": -0.28392640499765853}, \"21\": {\"effect\": -0.5030295848846436, \"value\": -1.2451491380517192}, \"22\": {\"effect\": 0.0, \"value\": -0.281177618061783}, \"23\": {\"effect\": 0.2765581011772156, \"value\": -0.758172259335024}, \"24\": {\"effect\": -0.013844353146851063, \"value\": -0.4103081629534704}, \"25\": {\"effect\": -0.005395691841840744, \"value\": -0.5427936000087006}, \"26\": {\"effect\": -0.05586759001016617, \"value\": -0.22279761856768437}, \"27\": {\"effect\": 0.1979900449514389, \"value\": -1.0661249415016238}, \"28\": {\"effect\": 0.23743592202663422, \"value\": 1.4594352863719973}}}, {\"outValue\": -7.860745906829834, \"simIndex\": 15.0, \"features\": {\"0\": {\"effect\": -1.3747776746749878, \"value\": -0.5515093340403762}, \"1\": {\"effect\": -0.4364880919456482, \"value\": -0.7189997888231492}, \"2\": {\"effect\": -1.3705800771713257, \"value\": -0.981885942795878}, \"3\": {\"effect\": -0.21030649542808533, \"value\": 1.508010025186811}, \"4\": {\"effect\": 0.20266665518283844, \"value\": 1.281026018020127}, \"5\": {\"effect\": 0.4042387902736664, \"value\": 1.4050873789322165}, \"6\": {\"effect\": -0.9460331797599792, \"value\": -0.4651689188017661}, \"7\": {\"effect\": -1.022294521331787, \"value\": -0.634569376322678}, \"8\": {\"effect\": 0.23065675795078278, \"value\": -0.7336970195781793}, \"9\": {\"effect\": 0.08000757545232773, \"value\": 1.2212136978176829}, \"10\": {\"effect\": 0.027228521183133125, \"value\": 0.3536644378677808}, \"11\": {\"effect\": -0.5049838423728943, \"value\": -0.40394840001005994}, \"12\": {\"effect\": -0.7251198887825012, \"value\": -0.6100864833817392}, \"13\": {\"effect\": 0.11497800052165985, \"value\": -0.9810847227000676}, \"14\": {\"effect\": -0.029342837631702423, \"value\": 1.8938210170991654}, \"15\": {\"effect\": -0.006219926755875349, \"value\": -0.2661788214760475}, \"16\": {\"effect\": -0.0288949366658926, \"value\": -0.16685673020962713}, \"17\": {\"effect\": -0.0772019624710083, \"value\": -0.5985507225211906}, \"18\": {\"effect\": 0.039201028645038605, \"value\": 1.2004967354908216}, \"19\": {\"effect\": -0.053917743265628815, \"value\": -0.34858850271216285}, \"20\": {\"effect\": 0.07189638167619705, \"value\": -0.28392640499765853}, \"21\": {\"effect\": 0.21913325786590576, \"value\": 0.8031166463839797}, \"22\": {\"effect\": 0.0, \"value\": -0.281177618061783}, \"23\": {\"effect\": 0.2190157175064087, \"value\": -0.758172259335024}, \"24\": {\"effect\": 0.005459568463265896, \"value\": -0.4103081629534704}, \"25\": {\"effect\": 0.02740449644625187, \"value\": 1.8423209116392871}, \"26\": {\"effect\": -0.01971765235066414, \"value\": -0.22279761856768437}, \"27\": {\"effect\": -0.3269157111644745, \"value\": 0.9379763675648676}, \"28\": {\"effect\": -0.2614068388938904, \"value\": -0.6851965341237534}}}, {\"outValue\": -6.556941509246826, \"simIndex\": 20.0, \"features\": {\"0\": {\"effect\": -1.612892985343933, \"value\": 0.37488031325545307}, \"1\": {\"effect\": -0.37944748997688293, \"value\": -0.7189997888231492}, \"2\": {\"effect\": -1.3091455698013306, \"value\": -0.981885942795878}, \"3\": {\"effect\": -0.0909380093216896, \"value\": 1.508010025186811}, \"4\": {\"effect\": 0.08356120437383652, \"value\": 1.281026018020127}, \"5\": {\"effect\": -0.09285891801118851, \"value\": -1.4945751890910155}, \"6\": {\"effect\": -0.39520278573036194, \"value\": -0.4651689188017661}, \"7\": {\"effect\": -0.2861064076423645, \"value\": -0.634569376322678}, \"8\": {\"effect\": 0.18114587664604187, \"value\": 0.37252822979168265}, \"9\": {\"effect\": 0.7190023064613342, \"value\": 4.455760298800242}, \"10\": {\"effect\": -0.16936571896076202, \"value\": -0.3396564013733443}, \"11\": {\"effect\": -0.018874023109674454, \"value\": 1.2858815631279987}, \"12\": {\"effect\": -0.1548595130443573, \"value\": 1.5324712830919172}, \"13\": {\"effect\": -0.127570241689682, \"value\": 1.0192799631492326}, \"14\": {\"effect\": 0.0018640896305441856, \"value\": -0.5280330036318513}, \"15\": {\"effect\": -0.05204809084534645, \"value\": -0.2661788214760475}, \"16\": {\"effect\": -0.046974003314971924, \"value\": -0.16685673020962713}, \"17\": {\"effect\": -0.013270806521177292, \"value\": -0.5985507225211906}, \"18\": {\"effect\": -0.07853635400533676, \"value\": 1.2004967354908216}, \"19\": {\"effect\": -0.052877575159072876, \"value\": -0.34858850271216285}, \"20\": {\"effect\": 0.05601837486028671, \"value\": -0.28392640499765853}, \"21\": {\"effect\": -0.15436774492263794, \"value\": -1.2451491380517192}, \"22\": {\"effect\": 0.0, \"value\": 3.5564708417875215}, \"23\": {\"effect\": 0.10286061465740204, \"value\": -0.758172259335024}, \"24\": {\"effect\": -0.001046225312165916, \"value\": -0.4103081629534704}, \"25\": {\"effect\": -0.021197251975536346, \"value\": -0.5427936000087006}, \"26\": {\"effect\": -0.03304419666528702, \"value\": -0.22279761856768437}, \"27\": {\"effect\": -0.24022695422172546, \"value\": 0.9379763675648676}, \"28\": {\"effect\": -0.26211196184158325, \"value\": -0.6851965341237534}}}, {\"outValue\": -7.04827356338501, \"simIndex\": 27.0, \"features\": {\"0\": {\"effect\": -1.4380322694778442, \"value\": -0.20411321630444018}, \"1\": {\"effect\": -0.5972968339920044, \"value\": -0.7189997888231492}, \"2\": {\"effect\": -0.7348954677581787, \"value\": -0.981885942795878}, \"3\": {\"effect\": 0.03200569748878479, \"value\": 0.08885474866332646}, \"4\": {\"effect\": 0.23989509046077728, \"value\": 1.281026018020127}, \"5\": {\"effect\": -1.2760193347930908, \"value\": -1.4945751890910155}, \"6\": {\"effect\": -0.5981543660163879, \"value\": -0.4651689188017661}, \"7\": {\"effect\": 1.8092546463012695, \"value\": 1.575871823180293}, \"8\": {\"effect\": -0.5588555932044983, \"value\": -0.4571407072357138}, \"9\": {\"effect\": -0.10134873539209366, \"value\": 0.1430314974901628}, \"10\": {\"effect\": -0.12555840611457825, \"value\": -0.3396564013733443}, \"11\": {\"effect\": -0.3731573224067688, \"value\": -0.12231007282038346}, \"12\": {\"effect\": -0.8065414428710938, \"value\": -0.32424924429688445}, \"13\": {\"effect\": -0.22415204346179962, \"value\": 1.0192799631492326}, \"14\": {\"effect\": 0.07996800541877747, \"value\": -0.5280330036318513}, \"15\": {\"effect\": -0.01989929750561714, \"value\": -0.2661788214760475}, \"16\": {\"effect\": -0.034588418900966644, \"value\": -0.16685673020962713}, \"17\": {\"effect\": 0.028401553630828857, \"value\": -0.5985507225211906}, \"18\": {\"effect\": -0.048513952642679214, \"value\": 1.2004967354908216}, \"19\": {\"effect\": -0.06624758243560791, \"value\": -0.34858850271216285}, \"20\": {\"effect\": 0.05302536487579346, \"value\": -0.28392640499765853}, \"21\": {\"effect\": 0.07301901280879974, \"value\": 0.8031166463839797}, \"22\": {\"effect\": 0.0, \"value\": -0.281177618061783}, \"23\": {\"effect\": 0.33125749230384827, \"value\": -0.758172259335024}, \"24\": {\"effect\": -0.024242248386144638, \"value\": -0.4103081629534704}, \"25\": {\"effect\": 0.025582175701856613, \"value\": 1.8423209116392871}, \"26\": {\"effect\": -0.01928502880036831, \"value\": -0.22279761856768437}, \"27\": {\"effect\": -0.15733397006988525, \"value\": 0.9379763675648676}, \"28\": {\"effect\": -0.40812891721725464, \"value\": -0.6851965341237534}}}, {\"outValue\": -9.358308792114258, \"simIndex\": 3.0, \"features\": {\"0\": {\"effect\": -4.366812705993652, \"value\": 2.227659607847112}, \"1\": {\"effect\": -0.16303907334804535, \"value\": -0.7189997888231492}, \"2\": {\"effect\": 0.25808775424957275, \"value\": -0.04510742475576169}, \"3\": {\"effect\": -0.015310877002775669, \"value\": 0.08885474866332646}, \"4\": {\"effect\": 0.026531541720032692, \"value\": -0.6738244597581727}, \"5\": {\"effect\": -0.18963150680065155, \"value\": -0.04474390507939949}, \"6\": {\"effect\": -0.16560575366020203, \"value\": -0.4651689188017661}, \"7\": {\"effect\": -0.6507489681243896, \"value\": -0.634569376322678}, \"8\": {\"effect\": -0.2863427698612213, \"value\": 0.9256408544766136}, \"9\": {\"effect\": -0.03954868018627167, \"value\": -0.3960596026735971}, \"10\": {\"effect\": -0.15730300545692444, \"value\": -0.6863168209939068}, \"11\": {\"effect\": -0.33486345410346985, \"value\": -0.40394840001005994}, \"12\": {\"effect\": -0.5105217099189758, \"value\": -0.9716583755574536}, \"13\": {\"effect\": -0.13988928496837616, \"value\": -0.9810847227000676}, \"14\": {\"effect\": 0.16392333805561066, \"value\": -0.5280330036318513}, \"15\": {\"effect\": -0.06722679734230042, \"value\": -0.2661788214760475}, \"16\": {\"effect\": -0.012554780580103397, \"value\": -0.16685673020962713}, \"17\": {\"effect\": 0.03687673807144165, \"value\": -0.5985507225211906}, \"18\": {\"effect\": 0.014959031715989113, \"value\": -0.8329885208651995}, \"19\": {\"effect\": -0.03570397198200226, \"value\": -0.34858850271216285}, \"20\": {\"effect\": 0.03411155939102173, \"value\": -0.28392640499765853}, \"21\": {\"effect\": -0.3582385778427124, \"value\": -1.2451491380517192}, \"22\": {\"effect\": 0.0, \"value\": -0.281177618061783}, \"23\": {\"effect\": 0.0905742272734642, \"value\": -0.758172259335024}, \"24\": {\"effect\": 0.010575080290436745, \"value\": 2.4371925549855598}, \"25\": {\"effect\": -0.013991245068609715, \"value\": -0.5427936000087006}, \"26\": {\"effect\": -0.014479653909802437, \"value\": -0.22279761856768437}, \"27\": {\"effect\": -0.14058510959148407, \"value\": 0.9379763675648676}, \"28\": {\"effect\": -0.22311875224113464, \"value\": -0.6851965341237534}}}, {\"outValue\": -6.616764068603516, \"simIndex\": 35.0, \"features\": {\"0\": {\"effect\": -3.44055438041687, \"value\": 0.2590816073434744}, \"1\": {\"effect\": -0.6453068256378174, \"value\": -0.7189997888231492}, \"2\": {\"effect\": -1.0362305641174316, \"value\": -0.7476913132858489}, \"3\": {\"effect\": -0.050120603293180466, \"value\": 1.508010025186811}, \"4\": {\"effect\": -1.0098133087158203, \"value\": -1.6512496986473226}, \"5\": {\"effect\": 0.3471272587776184, \"value\": 1.4050873789322165}, \"6\": {\"effect\": 1.2375322580337524, \"value\": 1.478356879234555}, \"7\": {\"effect\": 1.3114386796951294, \"value\": 1.575871823180293}, \"8\": {\"effect\": -0.31459522247314453, \"value\": -0.7336970195781793}, \"9\": {\"effect\": 0.2261347621679306, \"value\": 1.7603047979814426}, \"10\": {\"effect\": 0.35496750473976135, \"value\": 0.7003248574883433}, \"11\": {\"effect\": -0.6145708560943604, \"value\": 2.412434871886705}, \"12\": {\"effect\": -0.35522451996803284, \"value\": 0.15581073416614138}, \"13\": {\"effect\": 0.03923669457435608, \"value\": -0.9810847227000676}, \"14\": {\"effect\": 0.07142205536365509, \"value\": -0.5280330036318513}, \"15\": {\"effect\": -0.01745150052011013, \"value\": -0.2661788214760475}, \"16\": {\"effect\": -0.012380865402519703, \"value\": -0.16685673020962713}, \"17\": {\"effect\": -0.01833629049360752, \"value\": -0.5985507225211906}, \"18\": {\"effect\": 0.1449768841266632, \"value\": 1.2004967354908216}, \"19\": {\"effect\": -0.04679850861430168, \"value\": -0.34858850271216285}, \"20\": {\"effect\": 0.052590034902095795, \"value\": -0.28392640499765853}, \"21\": {\"effect\": -0.2363176941871643, \"value\": -1.2451491380517192}, \"22\": {\"effect\": 0.0, \"value\": -0.281177618061783}, \"23\": {\"effect\": -1.0922044515609741, \"value\": 1.318961473052414}, \"24\": {\"effect\": -0.010005067102611065, \"value\": -0.4103081629534704}, \"25\": {\"effect\": -0.013306796550750732, \"value\": -0.5427936000087006}, \"26\": {\"effect\": -0.047177039086818695, \"value\": -0.22279761856768437}, \"27\": {\"effect\": 0.14134612679481506, \"value\": -1.0661249415016238}, \"28\": {\"effect\": 0.5252895355224609, \"value\": 1.4594352863719973}}}, {\"outValue\": -4.892006874084473, \"simIndex\": 30.0, \"features\": {\"0\": {\"effect\": -2.226905345916748, \"value\": -0.08831451039246153}, \"1\": {\"effect\": 1.0203838348388672, \"value\": 1.4624586475927912}, \"2\": {\"effect\": -0.7295734882354736, \"value\": -0.7476913132858489}, \"3\": {\"effect\": 0.08388644456863403, \"value\": 0.08885474866332646}, \"4\": {\"effect\": -0.29783305525779724, \"value\": -0.6738244597581727}, \"5\": {\"effect\": -1.4443135261535645, \"value\": -1.4945751890910155}, \"6\": {\"effect\": -0.019655922427773476, \"value\": -0.07646375919450187}, \"7\": {\"effect\": 1.2001739740371704, \"value\": 1.575871823180293}, \"8\": {\"effect\": -0.5782479047775269, \"value\": 1.4787534791615446}, \"9\": {\"effect\": -0.15265697240829468, \"value\": -0.935150702837357}, \"10\": {\"effect\": -0.12944231927394867, \"value\": -0.6863168209939068}, \"11\": {\"effect\": -0.4568081796169281, \"value\": -0.6855867271997363}, \"12\": {\"effect\": 0.832688570022583, \"value\": -1.032327533140991}, \"13\": {\"effect\": 0.07931718230247498, \"value\": -0.9810847227000676}, \"14\": {\"effect\": -0.3840407431125641, \"value\": 1.8938210170991654}, \"15\": {\"effect\": -0.10627269744873047, \"value\": -0.2661788214760475}, \"16\": {\"effect\": -0.01633308455348015, \"value\": -0.16685673020962713}, \"17\": {\"effect\": 0.05658141151070595, \"value\": -0.5985507225211906}, \"18\": {\"effect\": 0.007916567847132683, \"value\": 1.2004967354908216}, \"19\": {\"effect\": -0.10490567237138748, \"value\": -0.34858850271216285}, \"20\": {\"effect\": 0.04964924976229668, \"value\": -0.28392640499765853}, \"21\": {\"effect\": 0.25092026591300964, \"value\": 0.8031166463839797}, \"22\": {\"effect\": 0.0, \"value\": -0.281177618061783}, \"23\": {\"effect\": 0.17780108749866486, \"value\": -0.758172259335024}, \"24\": {\"effect\": 0.16184447705745697, \"value\": 2.4371925549855598}, \"25\": {\"effect\": -0.01577541045844555, \"value\": -0.5427936000087006}, \"26\": {\"effect\": -0.017915140837430954, \"value\": -0.22279761856768437}, \"27\": {\"effect\": -0.1496952772140503, \"value\": -1.0661249415016238}, \"28\": {\"effect\": 0.12563621997833252, \"value\": 1.4594352863719973}}}, {\"outValue\": -8.78531265258789, \"simIndex\": 28.0, \"features\": {\"0\": {\"effect\": -2.3261914253234863, \"value\": 0.2590816073434744}, \"1\": {\"effect\": -0.5300741791725159, \"value\": -0.7189997888231492}, \"2\": {\"effect\": -0.44353047013282776, \"value\": -1.0989832575508927}, \"3\": {\"effect\": 0.025389421731233597, \"value\": 0.08885474866332646}, \"4\": {\"effect\": -0.014538032934069633, \"value\": -0.6738244597581727}, \"5\": {\"effect\": -0.9819290637969971, \"value\": -1.4945751890910155}, \"6\": {\"effect\": -0.9040161371231079, \"value\": -0.8538740784090303}, \"7\": {\"effect\": 1.197186827659607, \"value\": 1.575871823180293}, \"8\": {\"effect\": -0.17216165363788605, \"value\": -0.18058439489324832}, \"9\": {\"effect\": -0.08233017474412918, \"value\": 0.6821225976539227}, \"10\": {\"effect\": 0.14050190150737762, \"value\": 0.7003248574883433}, \"11\": {\"effect\": -0.5801121592521667, \"value\": 1.0042432359383224}, \"12\": {\"effect\": -0.8645554780960083, \"value\": -0.2529935223027967}, \"13\": {\"effect\": 0.028421804308891296, \"value\": -0.9810847227000676}, \"14\": {\"effect\": -0.0011193226091563702, \"value\": -0.5280330036318513}, \"15\": {\"effect\": -0.02885911799967289, \"value\": -0.2661788214760475}, \"16\": {\"effect\": -0.042849332094192505, \"value\": -0.16685673020962713}, \"17\": {\"effect\": -0.07522404938936234, \"value\": -0.5985507225211906}, \"18\": {\"effect\": -0.036737628281116486, \"value\": 1.2004967354908216}, \"19\": {\"effect\": -0.031731706112623215, \"value\": -0.34858850271216285}, \"20\": {\"effect\": 0.04070194810628891, \"value\": -0.28392640499765853}, \"21\": {\"effect\": 0.08831937611103058, \"value\": 0.8031166463839797}, \"22\": {\"effect\": 0.0, \"value\": -0.281177618061783}, \"23\": {\"effect\": -0.5176870226860046, \"value\": 1.318961473052414}, \"24\": {\"effect\": -0.014596851542592049, \"value\": -0.4103081629534704}, \"25\": {\"effect\": -0.011486608535051346, \"value\": -0.5427936000087006}, \"26\": {\"effect\": -0.030277563259005547, \"value\": -0.22279761856768437}, \"27\": {\"effect\": -0.15763366222381592, \"value\": 0.9379763675648676}, \"28\": {\"effect\": -0.34976112842559814, \"value\": -0.6851965341237534}}}, {\"outValue\": -7.725869655609131, \"simIndex\": 2.0, \"features\": {\"0\": {\"effect\": -4.586735725402832, \"value\": 1.5328673723752395}, \"1\": {\"effect\": -0.07929211109876633, \"value\": -0.7189997888231492}, \"2\": {\"effect\": -0.4233461916446686, \"value\": -0.6305939985308344}, \"3\": {\"effect\": -0.054642342031002045, \"value\": 0.08885474866332646}, \"4\": {\"effect\": -0.0012109719682484865, \"value\": 1.281026018020127}, \"5\": {\"effect\": 0.5377583503723145, \"value\": 1.4050873789322165}, \"6\": {\"effect\": 0.8898048996925354, \"value\": 0.7009465600200265}, \"7\": {\"effect\": -0.45557230710983276, \"value\": -0.634569376322678}, \"8\": {\"effect\": -0.3135036826133728, \"value\": 2.8615350408738722}, \"9\": {\"effect\": 0.06286776810884476, \"value\": 0.1430314974901628}, \"10\": {\"effect\": -0.2508010268211365, \"value\": -0.3396564013733443}, \"11\": {\"effect\": -0.14871259033679962, \"value\": -0.40394840001005994}, \"12\": {\"effect\": -0.20148496329784393, \"value\": -0.0866623083908835}, \"13\": {\"effect\": -0.051255907863378525, \"value\": 1.0192799631492326}, \"14\": {\"effect\": 0.04015907645225525, \"value\": -0.5280330036318513}, \"15\": {\"effect\": -0.04279223829507828, \"value\": -0.2661788214760475}, \"16\": {\"effect\": -0.02289685420691967, \"value\": -0.16685673020962713}, \"17\": {\"effect\": 0.027523191645741463, \"value\": 1.6707021850844006}, \"18\": {\"effect\": -0.027175500988960266, \"value\": -0.8329885208651995}, \"19\": {\"effect\": -0.009408500045537949, \"value\": -0.34858850271216285}, \"20\": {\"effect\": 0.07961679995059967, \"value\": -0.28392640499765853}, \"21\": {\"effect\": -0.12121333181858063, \"value\": -1.2451491380517192}, \"22\": {\"effect\": 0.0, \"value\": -0.281177618061783}, \"23\": {\"effect\": -0.328552782535553, \"value\": 1.318961473052414}, \"24\": {\"effect\": -0.004619762767106295, \"value\": -0.4103081629534704}, \"25\": {\"effect\": 0.013254985213279724, \"value\": -0.5427936000087006}, \"26\": {\"effect\": -0.018217887729406357, \"value\": -0.22279761856768437}, \"27\": {\"effect\": -0.037853680551052094, \"value\": -1.0661249415016238}, \"28\": {\"effect\": -0.0891350582242012, \"value\": -0.6851965341237534}}}, {\"outValue\": -5.138705253601074, \"simIndex\": 21.0, \"features\": {\"0\": {\"effect\": -1.6925013065338135, \"value\": 0.2590816073434744}, \"1\": {\"effect\": -0.3667856454849243, \"value\": -0.7189997888231492}, \"2\": {\"effect\": -1.0685557126998901, \"value\": -1.0989832575508927}, \"3\": {\"effect\": -0.06055743992328644, \"value\": 0.08885474866332646}, \"4\": {\"effect\": 0.026517827063798904, \"value\": 0.3036007791309771}, \"5\": {\"effect\": 0.038694437593221664, \"value\": -1.4945751890910155}, \"6\": {\"effect\": -0.49337875843048096, \"value\": -0.8538740784090303}, \"7\": {\"effect\": -0.025841986760497093, \"value\": -0.634569376322678}, \"8\": {\"effect\": 0.2365846186876297, \"value\": 0.09597191744921717}, \"9\": {\"effect\": 0.7312789559364319, \"value\": 3.916669198636482}, \"10\": {\"effect\": -0.0669039934873581, \"value\": 2.7802873752117185}, \"11\": {\"effect\": -0.4057825803756714, \"value\": -0.40394840001005994}, \"12\": {\"effect\": 1.1706509590148926, \"value\": 1.0235018402770046}, \"13\": {\"effect\": -0.08822619915008545, \"value\": 1.0192799631492326}, \"14\": {\"effect\": 0.011336829513311386, \"value\": -0.5280330036318513}, \"15\": {\"effect\": -0.04908003285527229, \"value\": -0.2661788214760475}, \"16\": {\"effect\": -0.05600101500749588, \"value\": -0.16685673020962713}, \"17\": {\"effect\": -0.014986461028456688, \"value\": -0.5985507225211906}, \"18\": {\"effect\": -0.08113887906074524, \"value\": 1.2004967354908216}, \"19\": {\"effect\": -0.05823083966970444, \"value\": -0.34858850271216285}, \"20\": {\"effect\": 0.04338216781616211, \"value\": -0.28392640499765853}, \"21\": {\"effect\": -0.3069586753845215, \"value\": -1.2451491380517192}, \"22\": {\"effect\": 0.0, \"value\": 3.5564708417875215}, \"23\": {\"effect\": 0.028072750195860863, \"value\": -0.758172259335024}, \"24\": {\"effect\": -0.0003512296825647354, \"value\": -0.4103081629534704}, \"25\": {\"effect\": -0.006572746206074953, \"value\": -0.5427936000087006}, \"26\": {\"effect\": -0.03927331045269966, \"value\": -0.22279761856768437}, \"27\": {\"effect\": -0.21424809098243713, \"value\": 0.9379763675648676}, \"28\": {\"effect\": -0.22141782939434052, \"value\": -0.6851965341237534}}}, {\"outValue\": -4.125740051269531, \"simIndex\": 16.0, \"features\": {\"0\": {\"effect\": -1.9560426473617554, \"value\": -0.7831067458643335}, \"1\": {\"effect\": 0.4416176974773407, \"value\": 1.4624586475927912}, \"2\": {\"effect\": 0.3778535723686218, \"value\": -0.16220473951077624}, \"3\": {\"effect\": 0.0034979567863047123, \"value\": 0.08885474866332646}, \"4\": {\"effect\": 0.03935578465461731, \"value\": -0.6738244597581727}, \"5\": {\"effect\": -0.10738702118396759, \"value\": -0.04474390507939949}, \"6\": {\"effect\": 1.2327057123184204, \"value\": 0.7009465600200265}, \"7\": {\"effect\": -0.8428424000740051, \"value\": -0.634569376322678}, \"8\": {\"effect\": 0.5183842778205872, \"value\": -1.2868096442631103}, \"9\": {\"effect\": 0.1094377338886261, \"value\": 1.2212136978176829}, \"10\": {\"effect\": 0.4350584149360657, \"value\": 1.3936456967294684}, \"11\": {\"effect\": -0.35283175110816956, \"value\": 0.7226049087486459}, \"12\": {\"effect\": -0.4865625500679016, \"value\": -0.09175200281903263}, \"13\": {\"effect\": -0.20009742677211761, \"value\": 1.0192799631492326}, \"14\": {\"effect\": 0.02624351717531681, \"value\": -0.5280330036318513}, \"15\": {\"effect\": -0.03969547152519226, \"value\": -0.2661788214760475}, \"16\": {\"effect\": -0.005322772078216076, \"value\": -0.16685673020962713}, \"17\": {\"effect\": -0.0309904795140028, \"value\": -0.5985507225211906}, \"18\": {\"effect\": -0.048449158668518066, \"value\": -0.8329885208651995}, \"19\": {\"effect\": -0.031773753464221954, \"value\": -0.34858850271216285}, \"20\": {\"effect\": -0.9878826141357422, \"value\": 3.5220394524709553}, \"21\": {\"effect\": 0.061590775847435, \"value\": 0.8031166463839797}, \"22\": {\"effect\": 0.0, \"value\": -0.281177618061783}, \"23\": {\"effect\": 0.2426944077014923, \"value\": -0.758172259335024}, \"24\": {\"effect\": -0.026078376919031143, \"value\": -0.4103081629534704}, \"25\": {\"effect\": -0.010523051954805851, \"value\": -0.5427936000087006}, \"26\": {\"effect\": -0.0153178870677948, \"value\": -0.22279761856768437}, \"27\": {\"effect\": -0.052441295236349106, \"value\": 0.9379763675648676}, \"28\": {\"effect\": -0.311509907245636, \"value\": -0.6851965341237534}}}, {\"outValue\": -6.727662563323975, \"simIndex\": 5.0, \"features\": {\"0\": {\"effect\": -2.069781541824341, \"value\": 0.9538738428153464}, \"1\": {\"effect\": -0.0263068825006485, \"value\": -0.7189997888231492}, \"2\": {\"effect\": 1.5199469327926636, \"value\": 2.4139361850995438}, \"3\": {\"effect\": -0.03552111238241196, \"value\": 0.08885474866332646}, \"4\": {\"effect\": -0.05892426520586014, \"value\": 0.3036007791309771}, \"5\": {\"effect\": -0.8767103552818298, \"value\": -0.7696595470852075}, \"6\": {\"effect\": -0.19042932987213135, \"value\": -0.4651689188017661}, \"7\": {\"effect\": -0.6965063810348511, \"value\": -0.634569376322678}, \"8\": {\"effect\": -0.28203874826431274, \"value\": 2.8615350408738722}, \"9\": {\"effect\": -0.13960076868534088, \"value\": 0.1430314974901628}, \"10\": {\"effect\": -0.20941941440105438, \"value\": -0.3396564013733443}, \"11\": {\"effect\": -0.6510506868362427, \"value\": 3.820626507835087}, \"12\": {\"effect\": -0.5989457964897156, \"value\": -0.13715207711812263}, \"13\": {\"effect\": -0.12336567789316177, \"value\": 1.0192799631492326}, \"14\": {\"effect\": 0.06656293570995331, \"value\": -0.5280330036318513}, \"15\": {\"effect\": -0.052826955914497375, \"value\": -0.2661788214760475}, \"16\": {\"effect\": -0.016120465472340584, \"value\": -0.16685673020962713}, \"17\": {\"effect\": 0.06899018585681915, \"value\": -0.5985507225211906}, \"18\": {\"effect\": 0.039347369223833084, \"value\": -0.8329885208651995}, \"19\": {\"effect\": -0.01939903385937214, \"value\": -0.34858850271216285}, \"20\": {\"effect\": -0.5260587334632874, \"value\": 3.5220394524709553}, \"21\": {\"effect\": -0.056059274822473526, \"value\": 0.8031166463839797}, \"22\": {\"effect\": 0.0, \"value\": -0.281177618061783}, \"23\": {\"effect\": -0.45143207907676697, \"value\": 1.318961473052414}, \"24\": {\"effect\": -0.002068307250738144, \"value\": -0.4103081629534704}, \"25\": {\"effect\": -0.0014436017954722047, \"value\": -0.5427936000087006}, \"26\": {\"effect\": -0.015042700804769993, \"value\": -0.22279761856768437}, \"27\": {\"effect\": 0.17489933967590332, \"value\": -1.0661249415016238}, \"28\": {\"effect\": 0.6100738048553467, \"value\": 1.4594352863719973}}}, {\"outValue\": -2.3754420280456543, \"simIndex\": 44.0, \"features\": {\"0\": {\"effect\": 1.7611901760101318, \"value\": -1.0147041576882907}, \"1\": {\"effect\": -0.32786309719085693, \"value\": -0.7189997888231492}, \"2\": {\"effect\": 0.0049073295667767525, \"value\": -0.2793020542657908}, \"3\": {\"effect\": 0.08601036667823792, \"value\": -1.3303005278601578}, \"4\": {\"effect\": -0.324465274810791, \"value\": -0.6738244597581727}, \"5\": {\"effect\": 1.1300190687179565, \"value\": 1.4050873789322165}, \"6\": {\"effect\": 0.17137177288532257, \"value\": -0.07646375919450187}, \"7\": {\"effect\": -1.0547453165054321, \"value\": -0.634569376322678}, \"8\": {\"effect\": -0.24697628617286682, \"value\": -0.4571407072357138}, \"9\": {\"effect\": -0.12176410108804703, \"value\": -0.935150702837357}, \"10\": {\"effect\": -0.174892395734787, \"value\": -0.6863168209939068}, \"11\": {\"effect\": -0.6464793682098389, \"value\": -0.6855867271997363}, \"12\": {\"effect\": -0.8787094354629517, \"value\": -1.1508156194283026}, \"13\": {\"effect\": 0.08006589859724045, \"value\": -0.9810847227000676}, \"14\": {\"effect\": -0.11616305261850357, \"value\": 1.8938210170991654}, \"15\": {\"effect\": -0.062471311539411545, \"value\": -0.2661788214760475}, \"16\": {\"effect\": -0.017105353996157646, \"value\": -0.16685673020962713}, \"17\": {\"effect\": -0.038747940212488174, \"value\": -0.5985507225211906}, \"18\": {\"effect\": 0.030968228355050087, \"value\": 1.2004967354908216}, \"19\": {\"effect\": -0.1312463879585266, \"value\": -0.34858850271216285}, \"20\": {\"effect\": 0.031132258474826813, \"value\": -0.28392640499765853}, \"21\": {\"effect\": 0.10681081563234329, \"value\": 0.8031166463839797}, \"22\": {\"effect\": 0.0, \"value\": -0.281177618061783}, \"23\": {\"effect\": 0.13234089314937592, \"value\": -0.758172259335024}, \"24\": {\"effect\": -0.0403565913438797, \"value\": 2.4371925549855598}, \"25\": {\"effect\": -0.06611188501119614, \"value\": -0.5427936000087006}, \"26\": {\"effect\": -0.006959128193557262, \"value\": -0.22279761856768437}, \"27\": {\"effect\": 0.09084998816251755, \"value\": -1.0661249415016238}, \"28\": {\"effect\": 0.36237919330596924, \"value\": 1.4594352863719973}}}, {\"outValue\": 5.084770202636719, \"simIndex\": 48.0, \"features\": {\"0\": {\"effect\": 3.8155815601348877, \"value\": -1.1305028636002694}, \"1\": {\"effect\": -0.5355724096298218, \"value\": -0.7189997888231492}, \"2\": {\"effect\": -0.25513651967048645, \"value\": -0.8647886280408635}, \"3\": {\"effect\": -0.004453361965715885, \"value\": 0.08885474866332646}, \"4\": {\"effect\": -0.1746014952659607, \"value\": -0.6738244597581727}, \"5\": {\"effect\": -1.150620937347412, \"value\": -1.4945751890910155}, \"6\": {\"effect\": 2.7058370113372803, \"value\": 1.0896517196272908}, \"7\": {\"effect\": 2.320674419403076, \"value\": 1.575871823180293}, \"8\": {\"effect\": 0.21961243450641632, \"value\": -0.7336970195781793}, \"9\": {\"effect\": 0.16846980154514313, \"value\": 0.1430314974901628}, \"10\": {\"effect\": -0.037030935287475586, \"value\": -0.3396564013733443}, \"11\": {\"effect\": -0.3938846290111542, \"value\": -0.6855867271997363}, \"12\": {\"effect\": -0.07233646512031555, \"value\": -0.8128599093992006}, \"13\": {\"effect\": 0.05825227499008179, \"value\": -0.9810847227000676}, \"14\": {\"effect\": 0.057461146265268326, \"value\": -0.5280330036318513}, \"15\": {\"effect\": -0.030777597799897194, \"value\": -0.2661788214760475}, \"16\": {\"effect\": -0.009697027504444122, \"value\": -0.16685673020962713}, \"17\": {\"effect\": 0.035337183624506, \"value\": -0.5985507225211906}, \"18\": {\"effect\": 0.09016464650630951, \"value\": 1.2004967354908216}, \"19\": {\"effect\": -0.044829245656728745, \"value\": -0.34858850271216285}, \"20\": {\"effect\": 0.0966154932975769, \"value\": -0.28392640499765853}, \"21\": {\"effect\": 0.16858381032943726, \"value\": 0.8031166463839797}, \"22\": {\"effect\": 0.0, \"value\": -0.281177618061783}, \"23\": {\"effect\": 0.18109360337257385, \"value\": -0.758172259335024}, \"24\": {\"effect\": -0.011294977739453316, \"value\": -0.4103081629534704}, \"25\": {\"effect\": 0.09348034858703613, \"value\": 1.8423209116392871}, \"26\": {\"effect\": -0.01195317879319191, \"value\": -0.22279761856768437}, \"27\": {\"effect\": -0.016660630702972412, \"value\": -1.0661249415016238}, \"28\": {\"effect\": -0.0691131129860878, \"value\": -0.6851965341237534}}}, {\"outValue\": 2.8782873153686523, \"simIndex\": 36.0, \"features\": {\"0\": {\"effect\": 2.9823482036590576, \"value\": -1.1305028636002694}, \"1\": {\"effect\": 0.15065538883209229, \"value\": 1.4624586475927912}, \"2\": {\"effect\": 1.1577695608139038, \"value\": 2.0626442408345}, \"3\": {\"effect\": -0.12300723046064377, \"value\": -1.3303005278601578}, \"4\": {\"effect\": -0.03784434124827385, \"value\": -0.6738244597581727}, \"5\": {\"effect\": -0.6223750710487366, \"value\": -0.7696595470852075}, \"6\": {\"effect\": -0.1530296355485916, \"value\": -0.8538740784090303}, \"7\": {\"effect\": -0.7933304905891418, \"value\": -0.634569376322678}, \"8\": {\"effect\": 0.07302889227867126, \"value\": 1.7553097915040101}, \"9\": {\"effect\": -0.13464070856571198, \"value\": -0.3960596026735971}, \"10\": {\"effect\": -0.12960419058799744, \"value\": -0.6863168209939068}, \"11\": {\"effect\": 0.5617726445198059, \"value\": 1.2858815631279987}, \"12\": {\"effect\": 0.5869794487953186, \"value\": -0.01540658639679573}, \"13\": {\"effect\": -0.11275655776262283, \"value\": 1.0192799631492326}, \"14\": {\"effect\": 0.23546552658081055, \"value\": -0.5280330036318513}, \"15\": {\"effect\": -0.046348292380571365, \"value\": -0.2661788214760475}, \"16\": {\"effect\": -0.011230586096644402, \"value\": -0.16685673020962713}, \"17\": {\"effect\": 0.059318989515304565, \"value\": -0.5985507225211906}, \"18\": {\"effect\": -0.012691140174865723, \"value\": -0.8329885208651995}, \"19\": {\"effect\": 1.0774866342544556, \"value\": 2.8687119403525534}, \"20\": {\"effect\": 0.014135036617517471, \"value\": -0.28392640499765853}, \"21\": {\"effect\": 0.1928190439939499, \"value\": -1.2451491380517192}, \"22\": {\"effect\": 0.0, \"value\": -0.281177618061783}, \"23\": {\"effect\": 0.4119924008846283, \"value\": -0.758172259335024}, \"24\": {\"effect\": 0.0010361217427998781, \"value\": -0.4103081629534704}, \"25\": {\"effect\": -0.002815333427861333, \"value\": -0.5427936000087006}, \"26\": {\"effect\": -0.011769568547606468, \"value\": -0.22279761856768437}, \"27\": {\"effect\": 0.08522830158472061, \"value\": -1.0661249415016238}, \"28\": {\"effect\": -0.4118748903274536, \"value\": -0.6851965341237534}}}, {\"outValue\": -2.9501943588256836, \"simIndex\": 38.0, \"features\": {\"0\": {\"effect\": 2.2790582180023193, \"value\": -1.1305028636002694}, \"1\": {\"effect\": -0.27215713262557983, \"value\": -0.7189997888231492}, \"2\": {\"effect\": -0.17565858364105225, \"value\": -0.7476913132858489}, \"3\": {\"effect\": 0.15944601595401764, \"value\": -1.3303005278601578}, \"4\": {\"effect\": 0.026191124692559242, \"value\": -0.6738244597581727}, \"5\": {\"effect\": 0.6281967163085938, \"value\": 1.4050873789322165}, \"6\": {\"effect\": -1.1886436939239502, \"value\": -0.8538740784090303}, \"7\": {\"effect\": -0.614381730556488, \"value\": -0.634569376322678}, \"8\": {\"effect\": -0.5181833505630493, \"value\": -0.4571407072357138}, \"9\": {\"effect\": -0.12935270369052887, \"value\": -0.935150702837357}, \"10\": {\"effect\": -0.15105807781219482, \"value\": -0.6863168209939068}, \"11\": {\"effect\": -0.48292672634124756, \"value\": -0.6855867271997363}, \"12\": {\"effect\": 0.2568374574184418, \"value\": -1.06164417304713}, \"13\": {\"effect\": 0.08354295045137405, \"value\": -0.9810847227000676}, \"14\": {\"effect\": -0.23584650456905365, \"value\": 1.8938210170991654}, \"15\": {\"effect\": -0.055543202906847, \"value\": -0.2661788214760475}, \"16\": {\"effect\": -0.030584242194890976, \"value\": -0.16685673020962713}, \"17\": {\"effect\": -0.0018928246572613716, \"value\": -0.5985507225211906}, \"18\": {\"effect\": 0.10393232107162476, \"value\": -0.8329885208651995}, \"19\": {\"effect\": -0.13025805354118347, \"value\": -0.34858850271216285}, \"20\": {\"effect\": 0.030554069206118584, \"value\": -0.28392640499765853}, \"21\": {\"effect\": 0.01779087632894516, \"value\": 0.8031166463839797}, \"22\": {\"effect\": 0.0, \"value\": -0.281177618061783}, \"23\": {\"effect\": 0.12110229581594467, \"value\": -0.758172259335024}, \"24\": {\"effect\": -0.013368113897740841, \"value\": 2.4371925549855598}, \"25\": {\"effect\": -0.021230356767773628, \"value\": -0.5427936000087006}, \"26\": {\"effect\": -0.007391377352178097, \"value\": -0.22279761856768437}, \"27\": {\"effect\": 0.08544321358203888, \"value\": -1.0661249415016238}, \"28\": {\"effect\": -0.6053816676139832, \"value\": -0.6851965341237534}}}, {\"outValue\": -9.714759826660156, \"simIndex\": 14.0, \"features\": {\"0\": {\"effect\": -2.3026602268218994, \"value\": 0.37488031325545307}, \"1\": {\"effect\": -0.3716086447238922, \"value\": -0.7189997888231492}, \"2\": {\"effect\": -0.9419028759002686, \"value\": -1.0989832575508927}, \"3\": {\"effect\": 0.006016931962221861, \"value\": 0.08885474866332646}, \"4\": {\"effect\": -0.03562278300523758, \"value\": -0.6738244597581727}, \"5\": {\"effect\": 0.043510861694812775, \"value\": 1.4050873789322165}, \"6\": {\"effect\": -0.7152255177497864, \"value\": -0.4651689188017661}, \"7\": {\"effect\": -0.9037467837333679, \"value\": -0.634569376322678}, \"8\": {\"effect\": 0.615028977394104, \"value\": -1.2868096442631103}, \"9\": {\"effect\": -0.19672463834285736, \"value\": -0.3960596026735971}, \"10\": {\"effect\": 0.16841228306293488, \"value\": 2.7802873752117185}, \"11\": {\"effect\": -0.7272618412971497, \"value\": 3.257349853455734}, \"12\": {\"effect\": -1.4563833475112915, \"value\": 1.854343558728068}, \"13\": {\"effect\": -0.3864910900592804, \"value\": 1.0192799631492326}, \"14\": {\"effect\": 0.03133267164230347, \"value\": -0.5280330036318513}, \"15\": {\"effect\": -0.011834582313895226, \"value\": -0.2661788214760475}, \"16\": {\"effect\": -0.030165325850248337, \"value\": -0.16685673020962713}, \"17\": {\"effect\": -0.036828454583883286, \"value\": -0.5985507225211906}, \"18\": {\"effect\": -0.017279841005802155, \"value\": 1.2004967354908216}, \"19\": {\"effect\": -0.03620043024420738, \"value\": -0.34858850271216285}, \"20\": {\"effect\": 0.05161251872777939, \"value\": -0.28392640499765853}, \"21\": {\"effect\": 0.041602279990911484, \"value\": 0.8031166463839797}, \"22\": {\"effect\": 0.0, \"value\": 3.5564708417875215}, \"23\": {\"effect\": 0.0847221240401268, \"value\": -0.758172259335024}, \"24\": {\"effect\": -0.026933668181300163, \"value\": -0.4103081629534704}, \"25\": {\"effect\": -0.009472204372286797, \"value\": -0.5427936000087006}, \"26\": {\"effect\": -0.043061111122369766, \"value\": -0.22279761856768437}, \"27\": {\"effect\": -0.1185477077960968, \"value\": 0.9379763675648676}, \"28\": {\"effect\": -0.2806159257888794, \"value\": -0.6851965341237534}}}, {\"outValue\": -4.077297210693359, \"simIndex\": 26.0, \"features\": {\"0\": {\"effect\": -2.2159314155578613, \"value\": -0.20411321630444018}, \"1\": {\"effect\": -0.45905375480651855, \"value\": -0.7189997888231492}, \"2\": {\"effect\": -0.1605992615222931, \"value\": 0.1890872047542674}, \"3\": {\"effect\": -0.014798469841480255, \"value\": 0.08885474866332646}, \"4\": {\"effect\": 0.08663896471261978, \"value\": 0.3036007791309771}, \"5\": {\"effect\": 0.18545274436473846, \"value\": -0.04474390507939949}, \"6\": {\"effect\": -0.41847002506256104, \"value\": -0.4651689188017661}, \"7\": {\"effect\": 1.750713586807251, \"value\": 1.575871823180293}, \"8\": {\"effect\": -0.26861289143562317, \"value\": 0.6490845421341481}, \"9\": {\"effect\": 0.03183034807443619, \"value\": 0.6821225976539227}, \"10\": {\"effect\": 0.23492000997066498, \"value\": 0.007004018247218249}, \"11\": {\"effect\": 0.45103102922439575, \"value\": -0.9672250543894129}, \"12\": {\"effect\": -0.7579536437988281, \"value\": -0.2849568033115731}, \"13\": {\"effect\": 0.15339744091033936, \"value\": -0.9810847227000676}, \"14\": {\"effect\": 0.13312453031539917, \"value\": -0.5280330036318513}, \"15\": {\"effect\": -0.01663832552731037, \"value\": -0.2661788214760475}, \"16\": {\"effect\": -0.02011983096599579, \"value\": -0.16685673020962713}, \"17\": {\"effect\": -0.2802218496799469, \"value\": 1.6707021850844006}, \"18\": {\"effect\": -0.001110933953896165, \"value\": -0.8329885208651995}, \"19\": {\"effect\": -0.11696042865514755, \"value\": -0.34858850271216285}, \"20\": {\"effect\": 0.02351570315659046, \"value\": -0.28392640499765853}, \"21\": {\"effect\": 0.24346160888671875, \"value\": 0.8031166463839797}, \"22\": {\"effect\": 0.0, \"value\": -0.281177618061783}, \"23\": {\"effect\": 0.1746109575033188, \"value\": -0.758172259335024}, \"24\": {\"effect\": 0.0019076794851571321, \"value\": -0.4103081629534704}, \"25\": {\"effect\": 0.10658814758062363, \"value\": 1.8423209116392871}, \"26\": {\"effect\": -0.03469010442495346, \"value\": -0.22279761856768437}, \"27\": {\"effect\": -0.30395740270614624, \"value\": 0.9379763675648676}, \"28\": {\"effect\": -0.4769406020641327, \"value\": -0.6851965341237534}}}, {\"outValue\": -6.68454122543335, \"simIndex\": 24.0, \"features\": {\"0\": {\"effect\": -2.775944709777832, \"value\": 0.2590816073434744}, \"1\": {\"effect\": -0.5408164262771606, \"value\": -0.7189997888231492}, \"2\": {\"effect\": 0.1861046850681305, \"value\": -0.04510742475576169}, \"3\": {\"effect\": 0.03731473535299301, \"value\": 0.08885474866332646}, \"4\": {\"effect\": 0.3124527037143707, \"value\": 1.281026018020127}, \"5\": {\"effect\": 0.08599330484867096, \"value\": 0.6801717369264084}, \"6\": {\"effect\": -0.28921541571617126, \"value\": -0.4651689188017661}, \"7\": {\"effect\": 0.8907450437545776, \"value\": 1.575871823180293}, \"8\": {\"effect\": -0.14404095709323883, \"value\": 0.37252822979168265}, \"9\": {\"effect\": 0.03912719711661339, \"value\": 0.1430314974901628}, \"10\": {\"effect\": -0.17671068012714386, \"value\": -0.3396564013733443}, \"11\": {\"effect\": -0.2969670295715332, \"value\": 1.0042432359383224}, \"12\": {\"effect\": -0.19114048779010773, \"value\": -0.6273914444374462}, \"13\": {\"effect\": 0.02177974209189415, \"value\": -0.9810847227000676}, \"14\": {\"effect\": 0.17159216105937958, \"value\": -0.5280330036318513}, \"15\": {\"effect\": -0.018138261511921883, \"value\": -0.2661788214760475}, \"16\": {\"effect\": -0.027575775980949402, \"value\": -0.16685673020962713}, \"17\": {\"effect\": -0.025598838925361633, \"value\": 1.6707021850844006}, \"18\": {\"effect\": -0.04369083046913147, \"value\": -0.8329885208651995}, \"19\": {\"effect\": -0.03400925174355507, \"value\": -0.34858850271216285}, \"20\": {\"effect\": 0.06451732665300369, \"value\": -0.28392640499765853}, \"21\": {\"effect\": -0.3725166320800781, \"value\": -1.2451491380517192}, \"22\": {\"effect\": 0.0, \"value\": -0.281177618061783}, \"23\": {\"effect\": -0.8749210238456726, \"value\": 1.318961473052414}, \"24\": {\"effect\": -0.014554333873093128, \"value\": -0.4103081629534704}, \"25\": {\"effect\": -0.04937343671917915, \"value\": -0.5427936000087006}, \"26\": {\"effect\": -0.032158397138118744, \"value\": -0.22279761856768437}, \"27\": {\"effect\": -0.26803281903266907, \"value\": 0.9379763675648676}, \"28\": {\"effect\": -0.21033112704753876, \"value\": -0.6851965341237534}}}, {\"outValue\": -2.877384662628174, \"simIndex\": 42.0, \"features\": {\"0\": {\"effect\": 2.5703680515289307, \"value\": -1.1305028636002694}, \"1\": {\"effect\": -0.34111660718917847, \"value\": -0.7189997888231492}, \"2\": {\"effect\": -1.5917757749557495, \"value\": -1.0989832575508927}, \"3\": {\"effect\": -0.004766274243593216, \"value\": 0.08885474866332646}, \"4\": {\"effect\": -0.050181757658720016, \"value\": -0.6738244597581727}, \"5\": {\"effect\": 0.40286946296691895, \"value\": 1.4050873789322165}, \"6\": {\"effect\": -1.1631014347076416, \"value\": -1.2425792380162946}, \"7\": {\"effect\": -1.0874072313308716, \"value\": -0.634569376322678}, \"8\": {\"effect\": -0.21164193749427795, \"value\": -0.7336970195781793}, \"9\": {\"effect\": 0.1292387694120407, \"value\": 0.6821225976539227}, \"10\": {\"effect\": 0.5145168304443359, \"value\": 1.3936456967294684}, \"11\": {\"effect\": 0.19671256840229034, \"value\": 0.44096658155896945}, \"12\": {\"effect\": -0.6726253032684326, \"value\": -0.986927458841901}, \"13\": {\"effect\": 0.12814533710479736, \"value\": -0.9810847227000676}, \"14\": {\"effect\": -0.3529369831085205, \"value\": 1.8938210170991654}, \"15\": {\"effect\": -0.029351651668548584, \"value\": -0.2661788214760475}, \"16\": {\"effect\": -0.014989975839853287, \"value\": -0.16685673020962713}, \"17\": {\"effect\": -0.009409749880433083, \"value\": -0.5985507225211906}, \"18\": {\"effect\": 0.01139809563755989, \"value\": -0.8329885208651995}, \"19\": {\"effect\": -0.09064915776252747, \"value\": -0.34858850271216285}, \"20\": {\"effect\": 0.02035178244113922, \"value\": -0.28392640499765853}, \"21\": {\"effect\": -0.11595503240823746, \"value\": 0.8031166463839797}, \"22\": {\"effect\": 0.0, \"value\": -0.281177618061783}, \"23\": {\"effect\": 0.13974529504776, \"value\": -0.758172259335024}, \"24\": {\"effect\": -0.01598224602639675, \"value\": 2.4371925549855598}, \"25\": {\"effect\": -0.0300731360912323, \"value\": -0.5427936000087006}, \"26\": {\"effect\": -0.007356898859143257, \"value\": -0.22279761856768437}, \"27\": {\"effect\": 0.1895902454853058, \"value\": -1.0661249415016238}, \"28\": {\"effect\": 0.7174316644668579, \"value\": 1.4594352863719973}}}, {\"outValue\": -4.1451616287231445, \"simIndex\": 7.0, \"features\": {\"0\": {\"effect\": -1.937414526939392, \"value\": -0.08831451039246153}, \"1\": {\"effect\": -0.30818670988082886, \"value\": -0.7189997888231492}, \"2\": {\"effect\": -0.5068255066871643, \"value\": -0.2793020542657908}, \"3\": {\"effect\": 0.01195517648011446, \"value\": 0.08885474866332646}, \"4\": {\"effect\": -0.12983393669128418, \"value\": -0.6738244597581727}, \"5\": {\"effect\": -0.35482853651046753, \"value\": -0.7696595470852075}, \"6\": {\"effect\": -0.12035209685564041, \"value\": -0.4651689188017661}, \"7\": {\"effect\": -0.39793848991394043, \"value\": -0.634569376322678}, \"8\": {\"effect\": 0.32215675711631775, \"value\": 0.6490845421341481}, \"9\": {\"effect\": -0.05595178157091141, \"value\": -0.935150702837357}, \"10\": {\"effect\": -0.1895630955696106, \"value\": -0.6863168209939068}, \"11\": {\"effect\": 1.4478298425674438, \"value\": -0.9672250543894129}, \"12\": {\"effect\": -0.45777416229248047, \"value\": -0.618229994466778}, \"13\": {\"effect\": 0.016640890389680862, \"value\": -0.9810847227000676}, \"14\": {\"effect\": -0.06758902966976166, \"value\": 1.8938210170991654}, \"15\": {\"effect\": -0.12976296246051788, \"value\": -0.2661788214760475}, \"16\": {\"effect\": -0.022523464635014534, \"value\": -0.16685673020962713}, \"17\": {\"effect\": 0.06946300715208054, \"value\": -0.5985507225211906}, \"18\": {\"effect\": 0.001164967194199562, \"value\": -0.8329885208651995}, \"19\": {\"effect\": -0.103569395840168, \"value\": -0.34858850271216285}, \"20\": {\"effect\": -0.32036134600639343, \"value\": 3.5220394524709553}, \"21\": {\"effect\": 0.33536356687545776, \"value\": 0.8031166463839797}, \"22\": {\"effect\": 0.0, \"value\": -0.281177618061783}, \"23\": {\"effect\": 0.26237431168556213, \"value\": -0.758172259335024}, \"24\": {\"effect\": 0.07714292407035828, \"value\": -0.4103081629534704}, \"25\": {\"effect\": 0.0186698529869318, \"value\": 1.8423209116392871}, \"26\": {\"effect\": -0.013429654762148857, \"value\": -0.22279761856768437}, \"27\": {\"effect\": 0.1727639138698578, \"value\": -1.0661249415016238}, \"28\": {\"effect\": 0.34364932775497437, \"value\": 1.4594352863719973}}}, {\"outValue\": -3.982609272003174, \"simIndex\": 8.0, \"features\": {\"0\": {\"effect\": -2.0431764125823975, \"value\": -0.08831451039246153}, \"1\": {\"effect\": -0.310310959815979, \"value\": -0.7189997888231492}, \"2\": {\"effect\": -0.40726417303085327, \"value\": -0.2793020542657908}, \"3\": {\"effect\": 0.012114605866372585, \"value\": 0.08885474866332646}, \"4\": {\"effect\": -0.06494878232479095, \"value\": -0.6738244597581727}, \"5\": {\"effect\": -0.46774864196777344, \"value\": -1.4945751890910155}, \"6\": {\"effect\": -0.10683051496744156, \"value\": -0.4651689188017661}, \"7\": {\"effect\": -0.4553048312664032, \"value\": -0.634569376322678}, \"8\": {\"effect\": 0.3607427477836609, \"value\": 0.6490845421341481}, \"9\": {\"effect\": 0.009755601175129414, \"value\": -0.3960596026735971}, \"10\": {\"effect\": -0.18796640634536743, \"value\": -0.6863168209939068}, \"11\": {\"effect\": 1.4878021478652954, \"value\": -0.9672250543894129}, \"12\": {\"effect\": -0.4650958180427551, \"value\": -0.618229994466778}, \"13\": {\"effect\": 0.0332036092877388, \"value\": -0.9810847227000676}, \"14\": {\"effect\": -0.03606400638818741, \"value\": 1.8938210170991654}, \"15\": {\"effect\": -0.13030284643173218, \"value\": -0.2661788214760475}, \"16\": {\"effect\": -0.022752057760953903, \"value\": -0.16685673020962713}, \"17\": {\"effect\": 0.0644102692604065, \"value\": -0.5985507225211906}, \"18\": {\"effect\": -0.002901623025536537, \"value\": -0.8329885208651995}, \"19\": {\"effect\": -0.10272998362779617, \"value\": -0.34858850271216285}, \"20\": {\"effect\": -0.17120134830474854, \"value\": 3.5220394524709553}, \"21\": {\"effect\": 0.3525724411010742, \"value\": 0.8031166463839797}, \"22\": {\"effect\": 0.0, \"value\": -0.281177618061783}, \"23\": {\"effect\": 0.2632867693901062, \"value\": -0.758172259335024}, \"24\": {\"effect\": 0.07714292407035828, \"value\": -0.4103081629534704}, \"25\": {\"effect\": 0.0186698529869318, \"value\": 1.8423209116392871}, \"26\": {\"effect\": -0.012444427236914635, \"value\": -0.22279761856768437}, \"27\": {\"effect\": 0.14347727596759796, \"value\": -1.0661249415016238}, \"28\": {\"effect\": 0.28968650102615356, \"value\": 1.4594352863719973}}}, {\"outValue\": -3.316072463989258, \"simIndex\": 11.0, \"features\": {\"0\": {\"effect\": -1.4232654571533203, \"value\": 0.37488031325545307}, \"1\": {\"effect\": 0.40540969371795654, \"value\": 1.4624586475927912}, \"2\": {\"effect\": 0.47512319684028625, \"value\": 1.828449611324471}, \"3\": {\"effect\": -0.03204081207513809, \"value\": 0.08885474866332646}, \"4\": {\"effect\": 0.331794798374176, \"value\": 1.281026018020127}, \"5\": {\"effect\": -0.3644528388977051, \"value\": -1.4945751890910155}, \"6\": {\"effect\": -0.37260276079177856, \"value\": -0.8538740784090303}, \"7\": {\"effect\": -0.5407556295394897, \"value\": -0.634569376322678}, \"8\": {\"effect\": 0.252087265253067, \"value\": -1.0102533319206448}, \"9\": {\"effect\": -0.2617410719394684, \"value\": 0.1430314974901628}, \"10\": {\"effect\": -0.18915127217769623, \"value\": -0.3396564013733443}, \"11\": {\"effect\": 0.08010508865118027, \"value\": 0.7226049087486459}, \"12\": {\"effect\": -0.306650847196579, \"value\": 1.3877203735553558}, \"13\": {\"effect\": -0.21993856132030487, \"value\": 1.0192799631492326}, \"14\": {\"effect\": 0.06229914352297783, \"value\": -0.5280330036318513}, \"15\": {\"effect\": -0.023732485249638557, \"value\": -0.2661788214760475}, \"16\": {\"effect\": -0.015930593013763428, \"value\": -0.16685673020962713}, \"17\": {\"effect\": 0.039735324680805206, \"value\": -0.5985507225211906}, \"18\": {\"effect\": -0.0014716119039803743, \"value\": -0.8329885208651995}, \"19\": {\"effect\": 0.6571523547172546, \"value\": 2.8687119403525534}, \"20\": {\"effect\": 0.03559219092130661, \"value\": -0.28392640499765853}, \"21\": {\"effect\": 0.13861259818077087, \"value\": -1.2451491380517192}, \"22\": {\"effect\": 0.0, \"value\": 3.5564708417875215}, \"23\": {\"effect\": 0.43980738520622253, \"value\": -0.758172259335024}, \"24\": {\"effect\": -0.002456983784213662, \"value\": -0.4103081629534704}, \"25\": {\"effect\": -0.009285743348300457, \"value\": -0.5427936000087006}, \"26\": {\"effect\": -0.01205116230994463, \"value\": -0.22279761856768437}, \"27\": {\"effect\": -0.1443074643611908, \"value\": 0.9379763675648676}, \"28\": {\"effect\": -0.20552492141723633, \"value\": -0.6851965341237534}}}, {\"outValue\": -9.032665252685547, \"simIndex\": 12.0, \"features\": {\"0\": {\"effect\": -2.0562291145324707, \"value\": -0.6673080399523548}, \"1\": {\"effect\": 0.3217754662036896, \"value\": 1.4624586475927912}, \"2\": {\"effect\": -0.09810581803321838, \"value\": -0.8647886280408635}, \"3\": {\"effect\": -0.0006576636806130409, \"value\": 0.08885474866332646}, \"4\": {\"effect\": -0.02852442115545273, \"value\": -0.6738244597581727}, \"5\": {\"effect\": -0.24177727103233337, \"value\": -0.04474390507939949}, \"6\": {\"effect\": -1.5872035026550293, \"value\": -1.2425792380162946}, \"7\": {\"effect\": -0.9427119493484497, \"value\": -0.634569376322678}, \"8\": {\"effect\": -0.592549204826355, \"value\": 0.9256408544766136}, \"9\": {\"effect\": -0.079097218811512, \"value\": -0.3960596026735971}, \"10\": {\"effect\": -0.13992860913276672, \"value\": -0.6863168209939068}, \"11\": {\"effect\": -0.1914069801568985, \"value\": -0.6855867271997363}, \"12\": {\"effect\": -0.6416469812393188, \"value\": -0.946209903416708}, \"13\": {\"effect\": 0.045328591018915176, \"value\": -0.9810847227000676}, \"14\": {\"effect\": -0.15499551594257355, \"value\": 1.8938210170991654}, \"15\": {\"effect\": -0.07271663844585419, \"value\": -0.2661788214760475}, \"16\": {\"effect\": -0.056573715060949326, \"value\": -0.16685673020962713}, \"17\": {\"effect\": 0.0073774768970906734, \"value\": -0.5985507225211906}, \"18\": {\"effect\": 0.026842430233955383, \"value\": 1.2004967354908216}, \"19\": {\"effect\": -0.1192956268787384, \"value\": -0.34858850271216285}, \"20\": {\"effect\": 0.043785225600004196, \"value\": -0.28392640499765853}, \"21\": {\"effect\": 0.16476953029632568, \"value\": 0.8031166463839797}, \"22\": {\"effect\": 0.0, \"value\": -0.281177618061783}, \"23\": {\"effect\": 0.0190203208476305, \"value\": -0.758172259335024}, \"24\": {\"effect\": 0.010396711528301239, \"value\": 2.4371925549855598}, \"25\": {\"effect\": -0.00868415180593729, \"value\": -0.5427936000087006}, \"26\": {\"effect\": -0.01843336597084999, \"value\": -0.22279761856768437}, \"27\": {\"effect\": -0.1384052187204361, \"value\": 0.9379763675648676}, \"28\": {\"effect\": -0.39458590745925903, \"value\": -0.6851965341237534}}}, {\"outValue\": -2.295408010482788, \"simIndex\": 45.0, \"features\": {\"0\": {\"effect\": 2.2284021377563477, \"value\": -1.0147041576882907}, \"1\": {\"effect\": -0.4230721592903137, \"value\": -0.7189997888231492}, \"2\": {\"effect\": 0.7184609174728394, \"value\": 0.7745737785293401}, \"3\": {\"effect\": -0.0018761251121759415, \"value\": 0.08885474866332646}, \"4\": {\"effect\": -1.2057372331619263, \"value\": -1.6512496986473226}, \"5\": {\"effect\": 1.4564865827560425, \"value\": 1.4050873789322165}, \"6\": {\"effect\": -0.9913850426673889, \"value\": -1.2425792380162946}, \"7\": {\"effect\": -0.7976654767990112, \"value\": -0.634569376322678}, \"8\": {\"effect\": -0.035367451608181, \"value\": 0.9256408544766136}, \"9\": {\"effect\": -0.14677904546260834, \"value\": -0.935150702837357}, \"10\": {\"effect\": -0.283839613199234, \"value\": -0.6863168209939068}, \"11\": {\"effect\": -0.22545912861824036, \"value\": 0.7226049087486459}, \"12\": {\"effect\": -0.5767961144447327, \"value\": -0.41810320955195407}, \"13\": {\"effect\": -0.3471003770828247, \"value\": 1.0192799631492326}, \"14\": {\"effect\": 0.1283770501613617, \"value\": -0.5280330036318513}, \"15\": {\"effect\": -0.05089075490832329, \"value\": -0.2661788214760475}, \"16\": {\"effect\": -0.016620751470327377, \"value\": -0.16685673020962713}, \"17\": {\"effect\": -0.04102001711726189, \"value\": 1.6707021850844006}, \"18\": {\"effect\": -0.057234738022089005, \"value\": -0.8329885208651995}, \"19\": {\"effect\": -0.10204333066940308, \"value\": -0.34858850271216285}, \"20\": {\"effect\": 0.002190372673794627, \"value\": -0.28392640499765853}, \"21\": {\"effect\": -0.07061047852039337, \"value\": 0.8031166463839797}, \"22\": {\"effect\": 0.0, \"value\": -0.281177618061783}, \"23\": {\"effect\": -0.4283270239830017, \"value\": 1.318961473052414}, \"24\": {\"effect\": 3.6990270018577576e-05, \"value\": -0.4103081629534704}, \"25\": {\"effect\": 0.0003231748705729842, \"value\": -0.5427936000087006}, \"26\": {\"effect\": -0.006993894465267658, \"value\": -0.22279761856768437}, \"27\": {\"effect\": 0.14848534762859344, \"value\": -1.0661249415016238}, \"28\": {\"effect\": 0.9390795826911926, \"value\": 1.4594352863719973}}}, {\"outValue\": -6.831702709197998, \"simIndex\": 6.0, \"features\": {\"0\": {\"effect\": -1.596737265586853, \"value\": 0.37488031325545307}, \"1\": {\"effect\": -0.45978057384490967, \"value\": -0.7189997888231492}, \"2\": {\"effect\": 0.24016085267066956, \"value\": 0.07198988999925285}, \"3\": {\"effect\": -0.06673917174339294, \"value\": 0.08885474866332646}, \"4\": {\"effect\": -0.11727229505777359, \"value\": 0.3036007791309771}, \"5\": {\"effect\": -0.9656097292900085, \"value\": -1.4945751890910155}, \"6\": {\"effect\": -0.018479373306035995, \"value\": -0.07646375919450187}, \"7\": {\"effect\": -0.7431257963180542, \"value\": -0.634569376322678}, \"8\": {\"effect\": -0.5405105948448181, \"value\": -0.4571407072357138}, \"9\": {\"effect\": -0.1939685344696045, \"value\": -0.3960596026735971}, \"10\": {\"effect\": -0.20170587301254272, \"value\": -0.3396564013733443}, \"11\": {\"effect\": -0.03579277545213699, \"value\": -0.12231007282038346}, \"12\": {\"effect\": -1.034334659576416, \"value\": 2.894269924287497}, \"13\": {\"effect\": 0.004192665219306946, \"value\": -0.9810847227000676}, \"14\": {\"effect\": 0.005828178487718105, \"value\": -0.5280330036318513}, \"15\": {\"effect\": -0.07017290592193604, \"value\": -0.2661788214760475}, \"16\": {\"effect\": -0.03339172899723053, \"value\": -0.16685673020962713}, \"17\": {\"effect\": -0.001343857147730887, \"value\": -0.5985507225211906}, \"18\": {\"effect\": 0.0008310447447001934, \"value\": 1.2004967354908216}, \"19\": {\"effect\": -0.0706721693277359, \"value\": -0.34858850271216285}, \"20\": {\"effect\": 0.028091441839933395, \"value\": -0.28392640499765853}, \"21\": {\"effect\": 0.23230445384979248, \"value\": 0.8031166463839797}, \"22\": {\"effect\": 0.0, \"value\": -0.281177618061783}, \"23\": {\"effect\": 0.21484358608722687, \"value\": -0.758172259335024}, \"24\": {\"effect\": 0.00277648470364511, \"value\": -0.4103081629534704}, \"25\": {\"effect\": -0.0012777969241142273, \"value\": -0.5427936000087006}, \"26\": {\"effect\": 0.2845262289047241, \"value\": 4.488378315840064}, \"27\": {\"effect\": 0.09039287269115448, \"value\": -1.0661249415016238}, \"28\": {\"effect\": 0.3236950635910034, \"value\": 1.4594352863719973}}}, {\"outValue\": -5.980475425720215, \"simIndex\": 22.0, \"features\": {\"0\": {\"effect\": -1.2248971462249756, \"value\": -0.20411321630444018}, \"1\": {\"effect\": 0.744316816329956, \"value\": 1.4624586475927912}, \"2\": {\"effect\": -0.7134643793106079, \"value\": -0.981885942795878}, \"3\": {\"effect\": 0.22134748101234436, \"value\": 1.508010025186811}, \"4\": {\"effect\": -1.1586530208587646, \"value\": -1.6512496986473226}, \"5\": {\"effect\": -0.503960371017456, \"value\": -0.7696595470852075}, \"6\": {\"effect\": -0.9806175231933594, \"value\": -0.8538740784090303}, \"7\": {\"effect\": -0.27925488352775574, \"value\": -0.634569376322678}, \"8\": {\"effect\": 0.4210436940193176, \"value\": -1.0102533319206448}, \"9\": {\"effect\": -0.08941419422626495, \"value\": 0.1430314974901628}, \"10\": {\"effect\": -0.2869489789009094, \"value\": -0.3396564013733443}, \"11\": {\"effect\": -0.27976396679878235, \"value\": -0.40394840001005994}, \"12\": {\"effect\": 0.9678117632865906, \"value\": 0.9182469595028804}, \"13\": {\"effect\": -0.20729875564575195, \"value\": 1.0192799631492326}, \"14\": {\"effect\": 0.038310837000608444, \"value\": -0.5280330036318513}, \"15\": {\"effect\": -0.03608274832367897, \"value\": -0.2661788214760475}, \"16\": {\"effect\": -0.026903808116912842, \"value\": -0.16685673020962713}, \"17\": {\"effect\": 0.006544896401464939, \"value\": -0.5985507225211906}, \"18\": {\"effect\": -0.029205968603491783, \"value\": -0.8329885208651995}, \"19\": {\"effect\": 0.450904905796051, \"value\": 2.8687119403525534}, \"20\": {\"effect\": -0.02094711922109127, \"value\": -0.28392640499765853}, \"21\": {\"effect\": 0.09840448200702667, \"value\": 0.8031166463839797}, \"22\": {\"effect\": 0.0, \"value\": -0.281177618061783}, \"23\": {\"effect\": -0.49055665731430054, \"value\": 1.318961473052414}, \"24\": {\"effect\": 0.004485124722123146, \"value\": -0.4103081629534704}, \"25\": {\"effect\": -0.005413162522017956, \"value\": -0.5427936000087006}, \"26\": {\"effect\": -0.013525905087590218, \"value\": -0.22279761856768437}, \"27\": {\"effect\": -0.062160197645425797, \"value\": 0.9379763675648676}, \"28\": {\"effect\": -0.41614505648612976, \"value\": -0.6851965341237534}}}, {\"outValue\": -8.225975036621094, \"simIndex\": 4.0, \"features\": {\"0\": {\"effect\": -3.756265640258789, \"value\": 1.8802634901111757}, \"1\": {\"effect\": -0.07789814472198486, \"value\": -0.7189997888231492}, \"2\": {\"effect\": 0.06455399841070175, \"value\": 1.2429630375493983}, \"3\": {\"effect\": -0.06674624234437943, \"value\": 0.08885474866332646}, \"4\": {\"effect\": 0.042696308344602585, \"value\": 0.3036007791309771}, \"5\": {\"effect\": -0.47935837507247925, \"value\": -1.4945751890910155}, \"6\": {\"effect\": -0.47168245911598206, \"value\": -0.8538740784090303}, \"7\": {\"effect\": -0.35572677850723267, \"value\": -0.634569376322678}, \"8\": {\"effect\": -0.13432547450065613, \"value\": 0.9256408544766136}, \"9\": {\"effect\": -0.1743282973766327, \"value\": 0.1430314974901628}, \"10\": {\"effect\": -0.16408659517765045, \"value\": -0.3396564013733443}, \"11\": {\"effect\": -0.30727800726890564, \"value\": -0.40394840001005994}, \"12\": {\"effect\": -0.2431778758764267, \"value\": -0.1947674180447704}, \"13\": {\"effect\": 0.07339860498905182, \"value\": -0.9810847227000676}, \"14\": {\"effect\": 0.04360927641391754, \"value\": -0.5280330036318513}, \"15\": {\"effect\": -0.03374946117401123, \"value\": -0.2661788214760475}, \"16\": {\"effect\": -0.014892198145389557, \"value\": -0.16685673020962713}, \"17\": {\"effect\": 0.04563530161976814, \"value\": 1.6707021850844006}, \"18\": {\"effect\": 0.01132885180413723, \"value\": -0.8329885208651995}, \"19\": {\"effect\": -0.041449613869190216, \"value\": -0.34858850271216285}, \"20\": {\"effect\": 0.015565386973321438, \"value\": -0.28392640499765853}, \"21\": {\"effect\": -0.004006152041256428, \"value\": 0.8031166463839797}, \"22\": {\"effect\": 0.0, \"value\": -0.281177618061783}, \"23\": {\"effect\": 0.10013651102781296, \"value\": -0.758172259335024}, \"24\": {\"effect\": -0.004591062664985657, \"value\": -0.4103081629534704}, \"25\": {\"effect\": 0.054669369012117386, \"value\": 1.8423209116392871}, \"26\": {\"effect\": -0.017387833446264267, \"value\": -0.22279761856768437}, \"27\": {\"effect\": -0.045786287635564804, \"value\": 0.9379763675648676}, \"28\": {\"effect\": -0.17640045285224915, \"value\": -0.6851965341237534}}}, {\"outValue\": -9.420557022094727, \"simIndex\": 13.0, \"features\": {\"0\": {\"effect\": -2.301737070083618, \"value\": -0.20411321630444018}, \"1\": {\"effect\": -0.20576997101306915, \"value\": -0.7189997888231492}, \"2\": {\"effect\": -0.04462137445807457, \"value\": -0.16220473951077624}, \"3\": {\"effect\": -0.042425818741321564, \"value\": -1.3303005278601578}, \"4\": {\"effect\": 0.015209967270493507, \"value\": -0.6738244597581727}, \"5\": {\"effect\": -0.07503180205821991, \"value\": -0.04474390507939949}, \"6\": {\"effect\": -1.001299500465393, \"value\": -0.8538740784090303}, \"7\": {\"effect\": -0.7419643402099609, \"value\": -0.634569376322678}, \"8\": {\"effect\": 0.2261372059583664, \"value\": -1.0102533319206448}, \"9\": {\"effect\": -0.1301710456609726, \"value\": 0.1430314974901628}, \"10\": {\"effect\": -0.0728796049952507, \"value\": -0.3396564013733443}, \"11\": {\"effect\": -0.5584087371826172, \"value\": 1.2858815631279987}, \"12\": {\"effect\": -0.8295779228210449, \"value\": -0.7261315163435397}, \"13\": {\"effect\": -0.008505570702254772, \"value\": -0.9810847227000676}, \"14\": {\"effect\": 0.02784835733473301, \"value\": -0.5280330036318513}, \"15\": {\"effect\": -0.04206490516662598, \"value\": -0.2661788214760475}, \"16\": {\"effect\": -0.02921578660607338, \"value\": -0.16685673020962713}, \"17\": {\"effect\": -0.020808003842830658, \"value\": -0.5985507225211906}, \"18\": {\"effect\": 0.006301858462393284, \"value\": 1.2004967354908216}, \"19\": {\"effect\": -0.04884754493832588, \"value\": -0.34858850271216285}, \"20\": {\"effect\": 0.04696258530020714, \"value\": -0.28392640499765853}, \"21\": {\"effect\": -0.14868076145648956, \"value\": -1.2451491380517192}, \"22\": {\"effect\": 0.0, \"value\": -0.281177618061783}, \"23\": {\"effect\": -0.7593255043029785, \"value\": 1.318961473052414}, \"24\": {\"effect\": 0.008390147238969803, \"value\": -0.4103081629534704}, \"25\": {\"effect\": -0.027939572930336, \"value\": -0.5427936000087006}, \"26\": {\"effect\": -0.03290879726409912, \"value\": -0.22279761856768437}, \"27\": {\"effect\": -0.16661874949932098, \"value\": 0.9379763675648676}, \"28\": {\"effect\": -0.35417288541793823, \"value\": -0.6851965341237534}}}, {\"outValue\": -10.956218719482422, \"simIndex\": 33.0, \"features\": {\"0\": {\"effect\": -2.876772880554199, \"value\": 0.14328290143149577}, \"1\": {\"effect\": -0.6027819514274597, \"value\": -0.7189997888231492}, \"2\": {\"effect\": -0.7129085659980774, \"value\": -0.981885942795878}, \"3\": {\"effect\": 0.005917196162045002, \"value\": 1.508010025186811}, \"4\": {\"effect\": 0.03441118076443672, \"value\": 0.3036007791309771}, \"5\": {\"effect\": -1.4985935688018799, \"value\": -1.4945751890910155}, \"6\": {\"effect\": -0.2278202772140503, \"value\": -0.07646375919450187}, \"7\": {\"effect\": 0.8574799299240112, \"value\": 1.575871823180293}, \"8\": {\"effect\": -0.9055156111717224, \"value\": 0.9256408544766136}, \"9\": {\"effect\": -0.16001053154468536, \"value\": -0.3960596026735971}, \"10\": {\"effect\": -0.17323964834213257, \"value\": -0.3396564013733443}, \"11\": {\"effect\": -0.509960412979126, \"value\": -0.40394840001005994}, \"12\": {\"effect\": -1.2679764032363892, \"value\": 1.7077603591973722}, \"13\": {\"effect\": -0.13692280650138855, \"value\": -0.9810847227000676}, \"14\": {\"effect\": 0.06434899568557739, \"value\": -0.5280330036318513}, \"15\": {\"effect\": -0.058132510632276535, \"value\": -0.2661788214760475}, \"16\": {\"effect\": -0.029660901054739952, \"value\": -0.16685673020962713}, \"17\": {\"effect\": -0.10893268138170242, \"value\": 1.6707021850844006}, \"18\": {\"effect\": -0.006373682990670204, \"value\": -0.8329885208651995}, \"19\": {\"effect\": -0.06702617555856705, \"value\": -0.34858850271216285}, \"20\": {\"effect\": 0.04513310268521309, \"value\": -0.28392640499765853}, \"21\": {\"effect\": -0.3855164051055908, \"value\": -1.2451491380517192}, \"22\": {\"effect\": 0.0, \"value\": -0.281177618061783}, \"23\": {\"effect\": 0.1232849657535553, \"value\": -0.758172259335024}, \"24\": {\"effect\": -0.028811614960432053, \"value\": -0.4103081629534704}, \"25\": {\"effect\": -0.0063972692005336285, \"value\": -0.5427936000087006}, \"26\": {\"effect\": -0.03510810062289238, \"value\": -0.22279761856768437}, \"27\": {\"effect\": 0.004618086386471987, \"value\": 0.9379763675648676}, \"28\": {\"effect\": -0.18451747298240662, \"value\": -0.6851965341237534}}}, {\"outValue\": 2.5995898246765137, \"simIndex\": 37.0, \"features\": {\"0\": {\"effect\": 3.2167677879333496, \"value\": -1.1305028636002694}, \"1\": {\"effect\": 0.3003140091896057, \"value\": 1.4624586475927912}, \"2\": {\"effect\": -0.16769500076770782, \"value\": -0.7476913132858489}, \"3\": {\"effect\": 0.2589704096317291, \"value\": -1.3303005278601578}, \"4\": {\"effect\": 0.37106606364250183, \"value\": 1.281026018020127}, \"5\": {\"effect\": -0.33494770526885986, \"value\": -0.04474390507939949}, \"6\": {\"effect\": -0.7920454740524292, \"value\": -1.2425792380162946}, \"7\": {\"effect\": -1.2856945991516113, \"value\": -0.634569376322678}, \"8\": {\"effect\": 0.25522178411483765, \"value\": 0.09597191744921717}, \"9\": {\"effect\": -0.067741259932518, \"value\": -0.3960596026735971}, \"10\": {\"effect\": -0.1681944578886032, \"value\": -0.6863168209939068}, \"11\": {\"effect\": 0.8968538641929626, \"value\": -1.2488633815790893}, \"12\": {\"effect\": 1.207182765007019, \"value\": -1.0919787518388988}, \"13\": {\"effect\": 0.1103343740105629, \"value\": -0.9810847227000676}, \"14\": {\"effect\": 0.28544095158576965, \"value\": -0.5280330036318513}, \"15\": {\"effect\": -0.09226024150848389, \"value\": -0.2661788214760475}, \"16\": {\"effect\": -0.03508693724870682, \"value\": -0.16685673020962713}, \"17\": {\"effect\": 0.07635771483182907, \"value\": -0.5985507225211906}, \"18\": {\"effect\": 0.08103648573160172, \"value\": -0.8329885208651995}, \"19\": {\"effect\": 1.1684396266937256, \"value\": 2.8687119403525534}, \"20\": {\"effect\": 0.032867319881916046, \"value\": -0.28392640499765853}, \"21\": {\"effect\": -0.09274248778820038, \"value\": -1.2451491380517192}, \"22\": {\"effect\": 0.0, \"value\": -0.281177618061783}, \"23\": {\"effect\": 0.3394524157047272, \"value\": -0.758172259335024}, \"24\": {\"effect\": -0.04027974605560303, \"value\": 2.4371925549855598}, \"25\": {\"effect\": -0.050041235983371735, \"value\": -0.5427936000087006}, \"26\": {\"effect\": -0.0060548679903149605, \"value\": -0.22279761856768437}, \"27\": {\"effect\": -0.23564858734607697, \"value\": 0.9379763675648676}, \"28\": {\"effect\": -0.5238520503044128, \"value\": -0.6851965341237534}}}, {\"outValue\": -8.212636947631836, \"simIndex\": 23.0, \"features\": {\"0\": {\"effect\": -2.5104548931121826, \"value\": 0.9538738428153464}, \"1\": {\"effect\": -0.4341472387313843, \"value\": -0.7189997888231492}, \"2\": {\"effect\": -0.7386167049407959, \"value\": -0.5134966837758198}, \"3\": {\"effect\": -0.052051983773708344, \"value\": -1.3303005278601578}, \"4\": {\"effect\": 0.3529110252857208, \"value\": 1.281026018020127}, \"5\": {\"effect\": 0.16050754487514496, \"value\": 1.4050873789322165}, \"6\": {\"effect\": -1.2576780319213867, \"value\": -0.8538740784090303}, \"7\": {\"effect\": 0.8702346682548523, \"value\": 1.575871823180293}, \"8\": {\"effect\": -0.2838754653930664, \"value\": -0.4571407072357138}, \"9\": {\"effect\": 0.11988319456577301, \"value\": -0.935150702837357}, \"10\": {\"effect\": -0.2757461965084076, \"value\": -0.6863168209939068}, \"11\": {\"effect\": -0.19094470143318176, \"value\": -0.12231007282038346}, \"12\": {\"effect\": -0.5413309335708618, \"value\": -0.39611572962235014}, \"13\": {\"effect\": -0.25762495398521423, \"value\": 1.0192799631492326}, \"14\": {\"effect\": 0.11418366432189941, \"value\": -0.5280330036318513}, \"15\": {\"effect\": -0.020165903493762016, \"value\": -0.2661788214760475}, \"16\": {\"effect\": -0.03734802454710007, \"value\": -0.16685673020962713}, \"17\": {\"effect\": -0.3507269620895386, \"value\": 1.6707021850844006}, \"18\": {\"effect\": -0.004963797517120838, \"value\": -0.8329885208651995}, \"19\": {\"effect\": -0.11021388322114944, \"value\": -0.34858850271216285}, \"20\": {\"effect\": 0.04174394905567169, \"value\": -0.28392640499765853}, \"21\": {\"effect\": -0.3440508246421814, \"value\": -1.2451491380517192}, \"22\": {\"effect\": 0.0, \"value\": -0.281177618061783}, \"23\": {\"effect\": -1.021755337715149, \"value\": 1.318961473052414}, \"24\": {\"effect\": -0.0008113489020615816, \"value\": -0.4103081629534704}, \"25\": {\"effect\": 0.001509537105448544, \"value\": -0.5427936000087006}, \"26\": {\"effect\": -0.03240722417831421, \"value\": -0.22279761856768437}, \"27\": {\"effect\": 0.13060590624809265, \"value\": -1.0661249415016238}, \"28\": {\"effect\": 0.5691293478012085, \"value\": 1.4594352863719973}}}, {\"outValue\": 1.6779828071594238, \"simIndex\": 41.0, \"features\": {\"0\": {\"effect\": 2.481091022491455, \"value\": -1.0147041576882907}, \"1\": {\"effect\": -0.2395637184381485, \"value\": -0.7189997888231492}, \"2\": {\"effect\": -0.38362911343574524, \"value\": -0.6305939985308344}, \"3\": {\"effect\": 0.007228781934827566, \"value\": 0.08885474866332646}, \"4\": {\"effect\": 0.06817486137151718, \"value\": 0.3036007791309771}, \"5\": {\"effect\": 0.16158506274223328, \"value\": -0.04474390507939949}, \"6\": {\"effect\": -0.18391633033752441, \"value\": -0.4651689188017661}, \"7\": {\"effect\": -1.0632826089859009, \"value\": -0.634569376322678}, \"8\": {\"effect\": -0.08497899025678635, \"value\": -0.4571407072357138}, \"9\": {\"effect\": -0.07752726227045059, \"value\": 0.1430314974901628}, \"10\": {\"effect\": -0.016282888129353523, \"value\": -0.3396564013733443}, \"11\": {\"effect\": 1.0359028577804565, \"value\": -0.9672250543894129}, \"12\": {\"effect\": 0.42660287022590637, \"value\": -0.7725495295282597}, \"13\": {\"effect\": 0.09445871412754059, \"value\": -0.9810847227000676}, \"14\": {\"effect\": 0.021804923191666603, \"value\": 1.8938210170991654}, \"15\": {\"effect\": -0.09673811495304108, \"value\": -0.2661788214760475}, \"16\": {\"effect\": -0.03352377563714981, \"value\": -0.16685673020962713}, \"17\": {\"effect\": 0.10203319042921066, \"value\": -0.5985507225211906}, \"18\": {\"effect\": 0.03231029212474823, \"value\": 1.2004967354908216}, \"19\": {\"effect\": -0.12306337803602219, \"value\": -0.34858850271216285}, \"20\": {\"effect\": 0.020574238151311874, \"value\": -0.28392640499765853}, \"21\": {\"effect\": 0.26585081219673157, \"value\": 0.8031166463839797}, \"22\": {\"effect\": 0.0, \"value\": -0.281177618061783}, \"23\": {\"effect\": 0.17862550914287567, \"value\": -0.758172259335024}, \"24\": {\"effect\": 0.0811731144785881, \"value\": -0.4103081629534704}, \"25\": {\"effect\": 0.06310342997312546, \"value\": 1.8423209116392871}, \"26\": {\"effect\": -0.00734544824808836, \"value\": -0.22279761856768437}, \"27\": {\"effect\": 0.15829293429851532, \"value\": -1.0661249415016238}, \"28\": {\"effect\": 0.8974531292915344, \"value\": 1.4594352863719973}}}, {\"outValue\": -7.619874954223633, \"simIndex\": 32.0, \"features\": {\"0\": {\"effect\": -3.082186698913574, \"value\": 1.1854712546393036}, \"1\": {\"effect\": 0.42929789423942566, \"value\": 1.4624586475927912}, \"2\": {\"effect\": -0.5016253590583801, \"value\": -0.7476913132858489}, \"3\": {\"effect\": -0.024718500673770905, \"value\": 1.508010025186811}, \"4\": {\"effect\": 0.029606301337480545, \"value\": 0.3036007791309771}, \"5\": {\"effect\": -1.3540089130401611, \"value\": -1.4945751890910155}, \"6\": {\"effect\": 0.8754710555076599, \"value\": 0.7009465600200265}, \"7\": {\"effect\": 0.07500038295984268, \"value\": 1.575871823180293}, \"8\": {\"effect\": -0.305435448884964, \"value\": -0.7336970195781793}, \"9\": {\"effect\": -0.22380712628364563, \"value\": -0.3960596026735971}, \"10\": {\"effect\": -0.10486525297164917, \"value\": -0.3396564013733443}, \"11\": {\"effect\": -0.4197172224521637, \"value\": -0.40394840001005994}, \"12\": {\"effect\": -1.0244038105010986, \"value\": 1.049153900194876}, \"13\": {\"effect\": -0.1715380996465683, \"value\": 1.0192799631492326}, \"14\": {\"effect\": 0.05322767421603203, \"value\": -0.5280330036318513}, \"15\": {\"effect\": -0.03100365214049816, \"value\": -0.2661788214760475}, \"16\": {\"effect\": -0.013836333528161049, \"value\": -0.16685673020962713}, \"17\": {\"effect\": -0.012279955670237541, \"value\": -0.5985507225211906}, \"18\": {\"effect\": 0.089258573949337, \"value\": 1.2004967354908216}, \"19\": {\"effect\": -0.020416943356394768, \"value\": -0.34858850271216285}, \"20\": {\"effect\": 0.0775996670126915, \"value\": -0.28392640499765853}, \"21\": {\"effect\": 0.20866608619689941, \"value\": 0.8031166463839797}, \"22\": {\"effect\": 0.0, \"value\": -0.281177618061783}, \"23\": {\"effect\": 0.25567013025283813, \"value\": -0.758172259335024}, \"24\": {\"effect\": -0.030454671010375023, \"value\": -0.4103081629534704}, \"25\": {\"effect\": -0.025102779269218445, \"value\": -0.5427936000087006}, \"26\": {\"effect\": -0.03277462720870972, \"value\": -0.22279761856768437}, \"27\": {\"effect\": -0.019424328580498695, \"value\": 0.9379763675648676}, \"28\": {\"effect\": -0.20764176547527313, \"value\": -0.6851965341237534}}}, {\"outValue\": -4.523449897766113, \"simIndex\": 40.0, \"features\": {\"0\": {\"effect\": 1.7811856269836426, \"value\": -1.0147041576882907}, \"1\": {\"effect\": -0.6971801519393921, \"value\": -0.7189997888231492}, \"2\": {\"effect\": -1.4094644784927368, \"value\": -0.981885942795878}, \"3\": {\"effect\": -0.1521662324666977, \"value\": 1.508010025186811}, \"4\": {\"effect\": 0.026581909507513046, \"value\": 0.3036007791309771}, \"5\": {\"effect\": -1.524633526802063, \"value\": -0.7696595470852075}, \"6\": {\"effect\": -0.33405616879463196, \"value\": -0.4651689188017661}, \"7\": {\"effect\": -1.2430214881896973, \"value\": -0.634569376322678}, \"8\": {\"effect\": 0.12208551168441772, \"value\": 0.09597191744921717}, \"9\": {\"effect\": -0.1499602049589157, \"value\": 0.1430314974901628}, \"10\": {\"effect\": -0.10145537555217743, \"value\": -0.3396564013733443}, \"11\": {\"effect\": 0.9186964631080627, \"value\": -0.9672250543894129}, \"12\": {\"effect\": -0.13781121373176575, \"value\": -0.7336642640971999}, \"13\": {\"effect\": 0.038609448820352554, \"value\": -0.9810847227000676}, \"14\": {\"effect\": 0.05341088026762009, \"value\": -0.5280330036318513}, \"15\": {\"effect\": -0.1316615492105484, \"value\": -0.2661788214760475}, \"16\": {\"effect\": -0.036939337849617004, \"value\": -0.16685673020962713}, \"17\": {\"effect\": 0.06489423662424088, \"value\": -0.5985507225211906}, \"18\": {\"effect\": -0.06278111785650253, \"value\": 1.2004967354908216}, \"19\": {\"effect\": -0.06949838250875473, \"value\": -0.34858850271216285}, \"20\": {\"effect\": -0.009983019903302193, \"value\": -0.28392640499765853}, \"21\": {\"effect\": -0.4210159480571747, \"value\": -1.2451491380517192}, \"22\": {\"effect\": 0.0, \"value\": -0.281177618061783}, \"23\": {\"effect\": 0.1337597370147705, \"value\": -0.758172259335024}, \"24\": {\"effect\": 0.07219716906547546, \"value\": -0.4103081629534704}, \"25\": {\"effect\": 0.04666804149746895, \"value\": 1.8423209116392871}, \"26\": {\"effect\": -0.0072868140414357185, \"value\": -0.22279761856768437}, \"27\": {\"effect\": 0.0709366500377655, \"value\": -1.0661249415016238}, \"28\": {\"effect\": 0.7448707818984985, \"value\": 1.4594352863719973}}}, {\"outValue\": -5.7533674240112305, \"simIndex\": 1.0, \"features\": {\"0\": {\"effect\": -5.508711338043213, \"value\": 2.3434583137590903}, \"1\": {\"effect\": -0.09519617259502411, \"value\": -0.7189997888231492}, \"2\": {\"effect\": -0.04843645170331001, \"value\": 1.0087684080393693}, \"3\": {\"effect\": -0.06414789706468582, \"value\": 0.08885474866332646}, \"4\": {\"effect\": -0.07904694229364395, \"value\": -0.6738244597581727}, \"5\": {\"effect\": -0.42399463057518005, \"value\": -0.7696595470852075}, \"6\": {\"effect\": 0.5865987539291382, \"value\": 1.0896517196272908}, \"7\": {\"effect\": -0.39556947350502014, \"value\": -0.634569376322678}, \"8\": {\"effect\": -0.08863060176372528, \"value\": -1.0102533319206448}, \"9\": {\"effect\": -0.1724134236574173, \"value\": -0.3960596026735971}, \"10\": {\"effect\": 0.4587218761444092, \"value\": 0.7003248574883433}, \"11\": {\"effect\": 0.12561540305614471, \"value\": -0.12231007282038346}, \"12\": {\"effect\": 1.2859362363815308, \"value\": 0.5695010972861023}, \"13\": {\"effect\": 0.031852781772613525, \"value\": 1.0192799631492326}, \"14\": {\"effect\": 0.011738733388483524, \"value\": -0.5280330036318513}, \"15\": {\"effect\": -0.018345840275287628, \"value\": -0.2661788214760475}, \"16\": {\"effect\": -0.0011086873710155487, \"value\": -0.16685673020962713}, \"17\": {\"effect\": 0.24405448138713837, \"value\": 1.6707021850844006}, \"18\": {\"effect\": 0.01593969576060772, \"value\": -0.8329885208651995}, \"19\": {\"effect\": -0.032050199806690216, \"value\": -0.34858850271216285}, \"20\": {\"effect\": 0.03138122707605362, \"value\": -0.28392640499765853}, \"21\": {\"effect\": 0.14842230081558228, \"value\": 0.8031166463839797}, \"22\": {\"effect\": 0.0, \"value\": -0.281177618061783}, \"23\": {\"effect\": 0.1944977194070816, \"value\": -0.758172259335024}, \"24\": {\"effect\": -0.000688613741658628, \"value\": -0.4103081629534704}, \"25\": {\"effect\": -0.00775918597355485, \"value\": -0.5427936000087006}, \"26\": {\"effect\": -0.010648493655025959, \"value\": -0.22279761856768437}, \"27\": {\"effect\": 0.03316585719585419, \"value\": -1.0661249415016238}, \"28\": {\"effect\": 0.13388678431510925, \"value\": 1.4594352863719973}}}, {\"outValue\": -5.136625289916992, \"simIndex\": 34.0, \"features\": {\"0\": {\"effect\": -2.7518200874328613, \"value\": -0.4357106281283975}, \"1\": {\"effect\": -0.5964644551277161, \"value\": -0.7189997888231492}, \"2\": {\"effect\": -0.6319675445556641, \"value\": -0.7476913132858489}, \"3\": {\"effect\": -0.0019704524893313646, \"value\": 0.08885474866332646}, \"4\": {\"effect\": 0.01943342015147209, \"value\": 0.3036007791309771}, \"5\": {\"effect\": 0.42018789052963257, \"value\": -0.04474390507939949}, \"6\": {\"effect\": 1.152642011642456, \"value\": 0.7009465600200265}, \"7\": {\"effect\": 1.1711620092391968, \"value\": 1.575871823180293}, \"8\": {\"effect\": -0.02714206837117672, \"value\": -0.18058439489324832}, \"9\": {\"effect\": 0.00924075860530138, \"value\": 0.1430314974901628}, \"10\": {\"effect\": -0.14718623459339142, \"value\": -0.3396564013733443}, \"11\": {\"effect\": -0.7009108066558838, \"value\": 1.0042432359383224}, \"12\": {\"effect\": -0.3658467233181, \"value\": -0.044112462971556736}, \"13\": {\"effect\": -0.04173550009727478, \"value\": -0.9810847227000676}, \"14\": {\"effect\": 0.05024188756942749, \"value\": -0.5280330036318513}, \"15\": {\"effect\": -0.0776757225394249, \"value\": -0.2661788214760475}, \"16\": {\"effect\": -0.022827450186014175, \"value\": -0.16685673020962713}, \"17\": {\"effect\": 0.08024077117443085, \"value\": -0.5985507225211906}, \"18\": {\"effect\": 0.04010085389018059, \"value\": 1.2004967354908216}, \"19\": {\"effect\": -0.07725514471530914, \"value\": -0.34858850271216285}, \"20\": {\"effect\": 0.09948289394378662, \"value\": -0.28392640499765853}, \"21\": {\"effect\": -0.26275840401649475, \"value\": -1.2451491380517192}, \"22\": {\"effect\": 0.0, \"value\": -0.281177618061783}, \"23\": {\"effect\": -0.8196924328804016, \"value\": 1.318961473052414}, \"24\": {\"effect\": -0.013666116632521152, \"value\": -0.4103081629534704}, \"25\": {\"effect\": -0.023030273616313934, \"value\": -0.5427936000087006}, \"26\": {\"effect\": -0.03651433438062668, \"value\": -0.22279761856768437}, \"27\": {\"effect\": 0.1398329734802246, \"value\": -1.0661249415016238}, \"28\": {\"effect\": 0.3877043128013611, \"value\": 1.4594352863719973}}}, {\"outValue\": 4.628612041473389, \"simIndex\": 49.0, \"features\": {\"0\": {\"effect\": 3.225749969482422, \"value\": -1.0147041576882907}, \"1\": {\"effect\": 0.5470309853553772, \"value\": 1.4624586475927912}, \"2\": {\"effect\": 0.31576254963874817, \"value\": -0.2793020542657908}, \"3\": {\"effect\": 0.222246915102005, \"value\": 1.508010025186811}, \"4\": {\"effect\": 0.7610499262809753, \"value\": 2.258451256909277}, \"5\": {\"effect\": 0.122519850730896, \"value\": -0.04474390507939949}, \"6\": {\"effect\": 1.9374333620071411, \"value\": 0.7009465600200265}, \"7\": {\"effect\": 2.008927583694458, \"value\": 1.575871823180293}, \"8\": {\"effect\": -0.9242846965789795, \"value\": 0.9256408544766136}, \"9\": {\"effect\": 0.015525476075708866, \"value\": -0.3960596026735971}, \"10\": {\"effect\": 0.7150686979293823, \"value\": 1.7403061163500309}, \"11\": {\"effect\": -0.6702752709388733, \"value\": 1.0042432359383224}, \"12\": {\"effect\": -0.25450828671455383, \"value\": 0.19489958737432644}, \"13\": {\"effect\": -0.3418616056442261, \"value\": 1.0192799631492326}, \"14\": {\"effect\": 0.12967762351036072, \"value\": -0.5280330036318513}, \"15\": {\"effect\": -0.05218919739127159, \"value\": -0.2661788214760475}, \"16\": {\"effect\": -0.008298303000628948, \"value\": -0.16685673020962713}, \"17\": {\"effect\": -0.020897042006254196, \"value\": -0.5985507225211906}, \"18\": {\"effect\": 0.02604573406279087, \"value\": 1.2004967354908216}, \"19\": {\"effect\": -0.011217358522117138, \"value\": -0.34858850271216285}, \"20\": {\"effect\": 0.09462021291255951, \"value\": -0.28392640499765853}, \"21\": {\"effect\": 0.0547608956694603, \"value\": 0.8031166463839797}, \"22\": {\"effect\": 0.0, \"value\": -0.281177618061783}, \"23\": {\"effect\": -0.17956691980361938, \"value\": 1.318961473052414}, \"24\": {\"effect\": -0.03036571852862835, \"value\": -0.4103081629534704}, \"25\": {\"effect\": -0.025520889088511467, \"value\": -0.5427936000087006}, \"26\": {\"effect\": -0.019223930314183235, \"value\": -0.22279761856768437}, \"27\": {\"effect\": -0.09382011741399765, \"value\": 0.9379763675648676}, \"28\": {\"effect\": -0.8073461651802063, \"value\": -0.6851965341237534}}}, {\"outValue\": -5.531670570373535, \"simIndex\": 17.0, \"features\": {\"0\": {\"effect\": -1.6710965633392334, \"value\": -0.31991192221641884}, \"1\": {\"effect\": 0.08377459645271301, \"value\": 0.371729429384821}, \"2\": {\"effect\": 0.09467161446809769, \"value\": 0.1890872047542674}, \"3\": {\"effect\": -0.06057563051581383, \"value\": -1.3303005278601578}, \"4\": {\"effect\": 0.008171521127223969, \"value\": 0.3036007791309771}, \"5\": {\"effect\": -0.3703309893608093, \"value\": 0.6801717369264084}, \"6\": {\"effect\": 1.0698304176330566, \"value\": 0.3122414004127624}, \"7\": {\"effect\": -0.5858585834503174, \"value\": -0.634569376322678}, \"8\": {\"effect\": 0.3353310227394104, \"value\": -1.2868096442631103}, \"9\": {\"effect\": -0.17737556993961334, \"value\": -0.935150702837357}, \"10\": {\"effect\": -0.15186549723148346, \"value\": -0.6863168209939068}, \"11\": {\"effect\": -0.7387986779212952, \"value\": 1.0042432359383224}, \"12\": {\"effect\": -0.48084303736686707, \"value\": -0.6565044965664594}, \"13\": {\"effect\": 0.07976152002811432, \"value\": -0.9810847227000676}, \"14\": {\"effect\": 0.04223853349685669, \"value\": -0.5280330036318513}, \"15\": {\"effect\": -0.006356087513267994, \"value\": -0.2661788214760475}, \"16\": {\"effect\": -0.008936749771237373, \"value\": -0.16685673020962713}, \"17\": {\"effect\": -0.023033924400806427, \"value\": -0.5985507225211906}, \"18\": {\"effect\": 0.1416490226984024, \"value\": 1.2004967354908216}, \"19\": {\"effect\": -0.0097790053114295, \"value\": -0.34858850271216285}, \"20\": {\"effect\": 0.07308170199394226, \"value\": -0.28392640499765853}, \"21\": {\"effect\": 0.048439785838127136, \"value\": 0.8031166463839797}, \"22\": {\"effect\": 0.0, \"value\": -0.281177618061783}, \"23\": {\"effect\": -0.7348952293395996, \"value\": 1.318961473052414}, \"24\": {\"effect\": -0.016108505427837372, \"value\": -0.4103081629534704}, \"25\": {\"effect\": -0.015366604551672935, \"value\": -0.5427936000087006}, \"26\": {\"effect\": -0.014863860793411732, \"value\": -0.22279761856768437}, \"27\": {\"effect\": -0.01734253764152527, \"value\": 0.9379763675648676}, \"28\": {\"effect\": -0.31676170229911804, \"value\": -0.6851965341237534}}}, {\"outValue\": -4.778796195983887, \"simIndex\": 9.0, \"features\": {\"0\": {\"effect\": -1.616190791130066, \"value\": 0.02748419551951712}, \"1\": {\"effect\": 0.8558424711227417, \"value\": 1.4624586475927912}, \"2\": {\"effect\": -0.42179903388023376, \"value\": -0.6305939985308344}, \"3\": {\"effect\": 0.10875333845615387, \"value\": -1.3303005278601578}, \"4\": {\"effect\": -0.08333923667669296, \"value\": -0.6738244597581727}, \"5\": {\"effect\": -0.4521835148334503, \"value\": -0.7696595470852075}, \"6\": {\"effect\": 0.4746634364128113, \"value\": 0.3122414004127624}, \"7\": {\"effect\": -0.6936038732528687, \"value\": -0.634569376322678}, \"8\": {\"effect\": -0.0043100956827402115, \"value\": 0.37252822979168265}, \"9\": {\"effect\": -0.09432662278413773, \"value\": -0.3960596026735971}, \"10\": {\"effect\": 0.11939465254545212, \"value\": 0.7003248574883433}, \"11\": {\"effect\": -0.7404608726501465, \"value\": 1.0042432359383224}, \"12\": {\"effect\": 0.04952274262905121, \"value\": -3.606491387121693}, \"13\": {\"effect\": 0.00990043394267559, \"value\": -0.9810847227000676}, \"14\": {\"effect\": 0.07839958369731903, \"value\": -0.5280330036318513}, \"15\": {\"effect\": -0.09102548658847809, \"value\": -0.2661788214760475}, \"16\": {\"effect\": -0.03295065090060234, \"value\": -0.16685673020962713}, \"17\": {\"effect\": -0.11519888788461685, \"value\": -0.5985507225211906}, \"18\": {\"effect\": 0.008580868132412434, \"value\": -0.8329885208651995}, \"19\": {\"effect\": 0.2814847230911255, \"value\": 2.8687119403525534}, \"20\": {\"effect\": 0.04883187636733055, \"value\": -0.28392640499765853}, \"21\": {\"effect\": 0.05623133108019829, \"value\": 0.8031166463839797}, \"22\": {\"effect\": 0.0, \"value\": -0.281177618061783}, \"23\": {\"effect\": 0.24893689155578613, \"value\": -0.758172259335024}, \"24\": {\"effect\": 0.01608610339462757, \"value\": -0.4103081629534704}, \"25\": {\"effect\": 0.028156636282801628, \"value\": 1.8423209116392871}, \"26\": {\"effect\": -0.011225087568163872, \"value\": -0.22279761856768437}, \"27\": {\"effect\": -0.26516085863113403, \"value\": 0.9379763675648676}, \"28\": {\"effect\": -0.43337520956993103, \"value\": -0.6851965341237534}}}, {\"outValue\": 4.063723087310791, \"simIndex\": 46.0, \"features\": {\"0\": {\"effect\": 2.9353511333465576, \"value\": -1.0147041576882907}, \"1\": {\"effect\": -0.4471499025821686, \"value\": -0.7189997888231492}, \"2\": {\"effect\": 0.17047108709812164, \"value\": 0.8916710932843547}, \"3\": {\"effect\": 0.005109671503305435, \"value\": 0.08885474866332646}, \"4\": {\"effect\": -0.7011501789093018, \"value\": -1.6512496986473226}, \"5\": {\"effect\": 1.0736702680587769, \"value\": 1.4050873789322165}, \"6\": {\"effect\": -0.3680669665336609, \"value\": -0.4651689188017661}, \"7\": {\"effect\": -0.3087635338306427, \"value\": -0.634569376322678}, \"8\": {\"effect\": 0.28637146949768066, \"value\": 0.37252822979168265}, \"9\": {\"effect\": 0.09070423990488052, \"value\": 1.2212136978176829}, \"10\": {\"effect\": 1.3982449769973755, \"value\": 4.513589473314531}, \"11\": {\"effect\": 0.10179552435874939, \"value\": 2.9757115262660574}, \"12\": {\"effect\": 0.2905941307544708, \"value\": -0.5032029003906076}, \"13\": {\"effect\": -0.3055655062198639, \"value\": 1.0192799631492326}, \"14\": {\"effect\": 0.19770938158035278, \"value\": -0.5280330036318513}, \"15\": {\"effect\": -0.01261625811457634, \"value\": -0.2661788214760475}, \"16\": {\"effect\": -0.013473949395120144, \"value\": -0.16685673020962713}, \"17\": {\"effect\": 0.07476399093866348, \"value\": -0.5985507225211906}, \"18\": {\"effect\": -0.08684305846691132, \"value\": 1.2004967354908216}, \"19\": {\"effect\": -0.08313290029764175, \"value\": -0.34858850271216285}, \"20\": {\"effect\": 0.010285207070410252, \"value\": -0.28392640499765853}, \"21\": {\"effect\": 0.2766818702220917, \"value\": -1.2451491380517192}, \"22\": {\"effect\": 0.0, \"value\": -0.281177618061783}, \"23\": {\"effect\": 0.05954327806830406, \"value\": -0.758172259335024}, \"24\": {\"effect\": 0.005821553058922291, \"value\": -0.4103081629534704}, \"25\": {\"effect\": 0.031607821583747864, \"value\": 1.8423209116392871}, \"26\": {\"effect\": -0.016764992848038673, \"value\": -0.22279761856768437}, \"27\": {\"effect\": 0.14771483838558197, \"value\": -1.0661249415016238}, \"28\": {\"effect\": 1.3592422008514404, \"value\": 1.4594352863719973}}}, {\"outValue\": -6.16044282913208, \"simIndex\": 31.0, \"features\": {\"0\": {\"effect\": -3.211601495742798, \"value\": 0.6064777250794103}, \"1\": {\"effect\": 0.9596146941184998, \"value\": 1.4624586475927912}, \"2\": {\"effect\": -0.5777603387832642, \"value\": 0.30618451950928194}, \"3\": {\"effect\": 0.0671253353357315, \"value\": 0.08885474866332646}, \"4\": {\"effect\": -0.02260443940758705, \"value\": -0.6738244597581727}, \"5\": {\"effect\": -0.9354137182235718, \"value\": -1.4945751890910155}, \"6\": {\"effect\": 0.023297779262065887, \"value\": -0.07646375919450187}, \"7\": {\"effect\": 0.37607353925704956, \"value\": 1.575871823180293}, \"8\": {\"effect\": -0.280474990606308, \"value\": -1.0102533319206448}, \"9\": {\"effect\": -0.20784011483192444, \"value\": -0.935150702837357}, \"10\": {\"effect\": -0.25959768891334534, \"value\": -0.6863168209939068}, \"11\": {\"effect\": 0.8997926712036133, \"value\": -1.2488633815790893}, \"12\": {\"effect\": 0.1456727832555771, \"value\": -0.5349625936222582}, \"13\": {\"effect\": -0.1771329790353775, \"value\": 1.0192799631492326}, \"14\": {\"effect\": 0.1712115854024887, \"value\": -0.5280330036318513}, \"15\": {\"effect\": -0.01094068493694067, \"value\": -0.2661788214760475}, \"16\": {\"effect\": -0.013300662860274315, \"value\": -0.16685673020962713}, \"17\": {\"effect\": 0.08584236353635788, \"value\": -0.5985507225211906}, \"18\": {\"effect\": -0.007118124980479479, \"value\": -0.8329885208651995}, \"19\": {\"effect\": 0.29010674357414246, \"value\": 2.8687119403525534}, \"20\": {\"effect\": 0.019250206649303436, \"value\": -0.28392640499765853}, \"21\": {\"effect\": 0.20599907636642456, \"value\": 0.8031166463839797}, \"22\": {\"effect\": 0.0, \"value\": -0.281177618061783}, \"23\": {\"effect\": -0.8721683621406555, \"value\": 1.318961473052414}, \"24\": {\"effect\": -0.017346400767564774, \"value\": -0.4103081629534704}, \"25\": {\"effect\": -0.0893595814704895, \"value\": -0.5427936000087006}, \"26\": {\"effect\": -0.017050551250576973, \"value\": -0.22279761856768437}, \"27\": {\"effect\": -0.18172715604305267, \"value\": 0.9379763675648676}, \"28\": {\"effect\": -0.4145614504814148, \"value\": -0.6851965341237534}}}, {\"outValue\": -6.159063339233398, \"simIndex\": 10.0, \"features\": {\"0\": {\"effect\": -1.9937148094177246, \"value\": -0.6673080399523548}, \"1\": {\"effect\": 0.38402819633483887, \"value\": 1.4624586475927912}, \"2\": {\"effect\": -0.7034319639205933, \"value\": -0.5134966837758198}, \"3\": {\"effect\": 0.017944414168596268, \"value\": 0.08885474866332646}, \"4\": {\"effect\": -0.06458806246519089, \"value\": -0.6738244597581727}, \"5\": {\"effect\": -0.1643228977918625, \"value\": 0.6801717369264084}, \"6\": {\"effect\": -0.6173068881034851, \"value\": -0.8538740784090303}, \"7\": {\"effect\": -1.0533928871154785, \"value\": -0.634569376322678}, \"8\": {\"effect\": 0.3463174104690552, \"value\": -1.2868096442631103}, \"9\": {\"effect\": -0.24329513311386108, \"value\": -0.935150702837357}, \"10\": {\"effect\": -0.0965893343091011, \"value\": -0.3396564013733443}, \"11\": {\"effect\": -0.38181835412979126, \"value\": -0.6855867271997363}, \"12\": {\"effect\": -0.09979619085788727, \"value\": -1.0028073054577262}, \"13\": {\"effect\": -0.03444807603955269, \"value\": -0.9810847227000676}, \"14\": {\"effect\": 0.16553330421447754, \"value\": -0.5280330036318513}, \"15\": {\"effect\": -0.016493966802954674, \"value\": -0.2661788214760475}, \"16\": {\"effect\": -0.027903953567147255, \"value\": -0.16685673020962713}, \"17\": {\"effect\": 0.03491589426994324, \"value\": -0.5985507225211906}, \"18\": {\"effect\": -0.0169222392141819, \"value\": -0.8329885208651995}, \"19\": {\"effect\": 0.978324294090271, \"value\": 2.8687119403525534}, \"20\": {\"effect\": 0.04906595125794411, \"value\": -0.28392640499765853}, \"21\": {\"effect\": -0.23169487714767456, \"value\": -1.2451491380517192}, \"22\": {\"effect\": 0.0, \"value\": -0.281177618061783}, \"23\": {\"effect\": 0.3837089538574219, \"value\": -0.758172259335024}, \"24\": {\"effect\": 0.001961215864866972, \"value\": 2.4371925549855598}, \"25\": {\"effect\": -0.014039280824363232, \"value\": -0.5427936000087006}, \"26\": {\"effect\": -0.019281748682260513, \"value\": -0.22279761856768437}, \"27\": {\"effect\": -0.23179474472999573, \"value\": 0.9379763675648676}, \"28\": {\"effect\": -0.40159645676612854, \"value\": -0.6851965341237534}}}, {\"outValue\": -5.5654377937316895, \"simIndex\": 39.0, \"features\": {\"0\": {\"effect\": 1.418067216873169, \"value\": -1.0147041576882907}, \"1\": {\"effect\": -0.5902974009513855, \"value\": -0.7189997888231492}, \"2\": {\"effect\": -1.2272781133651733, \"value\": -1.0989832575508927}, \"3\": {\"effect\": -0.29944148659706116, \"value\": 0.08885474866332646}, \"4\": {\"effect\": 0.10898633301258087, \"value\": 0.3036007791309771}, \"5\": {\"effect\": -0.1359555870294571, \"value\": -0.04474390507939949}, \"6\": {\"effect\": -0.883866012096405, \"value\": -0.8538740784090303}, \"7\": {\"effect\": -1.1714164018630981, \"value\": -0.634569376322678}, \"8\": {\"effect\": -0.25303828716278076, \"value\": -0.4571407072357138}, \"9\": {\"effect\": -0.2017577737569809, \"value\": -0.935150702837357}, \"10\": {\"effect\": -0.10258585214614868, \"value\": -0.6863168209939068}, \"11\": {\"effect\": 1.1414690017700195, \"value\": -1.2488633815790893}, \"12\": {\"effect\": 0.09697627276182175, \"value\": -1.2524059202141593}, \"13\": {\"effect\": -0.20002064108848572, \"value\": 1.0192799631492326}, \"14\": {\"effect\": 0.012136677280068398, \"value\": -0.5280330036318513}, \"15\": {\"effect\": -0.0720556303858757, \"value\": -0.2661788214760475}, \"16\": {\"effect\": -0.0416695661842823, \"value\": -0.16685673020962713}, \"17\": {\"effect\": 0.07569963485002518, \"value\": -0.5985507225211906}, \"18\": {\"effect\": -0.0705687627196312, \"value\": 1.2004967354908216}, \"19\": {\"effect\": -0.07007823139429092, \"value\": -0.34858850271216285}, \"20\": {\"effect\": 0.024451613426208496, \"value\": -0.28392640499765853}, \"21\": {\"effect\": 0.10839831829071045, \"value\": 0.8031166463839797}, \"22\": {\"effect\": 0.0, \"value\": -0.281177618061783}, \"23\": {\"effect\": 0.0571635439991951, \"value\": -0.758172259335024}, \"24\": {\"effect\": 0.05631781369447708, \"value\": -0.4103081629534704}, \"25\": {\"effect\": 0.07834555953741074, \"value\": 1.8423209116392871}, \"26\": {\"effect\": -0.006262173876166344, \"value\": -0.22279761856768437}, \"27\": {\"effect\": -0.1496480107307434, \"value\": 0.9379763675648676}, \"28\": {\"effect\": -1.1590784788131714, \"value\": -0.6851965341237534}}}, {\"outValue\": 6.4033684730529785, \"simIndex\": 50.0, \"features\": {\"0\": {\"effect\": -0.2239496111869812, \"value\": -0.6673080399523548}, \"1\": {\"effect\": 1.4147114753723145, \"value\": 1.4624586475927912}, \"2\": {\"effect\": 1.870790958404541, \"value\": 1.828449611324471}, \"3\": {\"effect\": 0.04367508366703987, \"value\": 1.508010025186811}, \"4\": {\"effect\": -0.3431032598018646, \"value\": -1.6512496986473226}, \"5\": {\"effect\": 0.57044517993927, \"value\": 0.6801717369264084}, \"6\": {\"effect\": 0.6136854887008667, \"value\": 0.7009465600200265}, \"7\": {\"effect\": 3.3048787117004395, \"value\": 1.575871823180293}, \"8\": {\"effect\": -0.12404168397188187, \"value\": 0.37252822979168265}, \"9\": {\"effect\": 0.011822507716715336, \"value\": 0.1430314974901628}, \"10\": {\"effect\": -0.13751950860023499, \"value\": -0.3396564013733443}, \"11\": {\"effect\": 0.977263867855072, \"value\": -0.9672250543894129}, \"12\": {\"effect\": -0.8710550665855408, \"value\": 1.6244929583528531}, \"13\": {\"effect\": 0.21558482944965363, \"value\": -0.9810847227000676}, \"14\": {\"effect\": 0.18609972298145294, \"value\": -0.5280330036318513}, \"15\": {\"effect\": -0.016408585011959076, \"value\": -0.2661788214760475}, \"16\": {\"effect\": -0.018551720306277275, \"value\": -0.16685673020962713}, \"17\": {\"effect\": 0.18721438944339752, \"value\": -0.5985507225211906}, \"18\": {\"effect\": 0.10114588588476181, \"value\": 1.2004967354908216}, \"19\": {\"effect\": -0.08729693293571472, \"value\": -0.34858850271216285}, \"20\": {\"effect\": 0.04534340277314186, \"value\": -0.28392640499765853}, \"21\": {\"effect\": -0.46918562054634094, \"value\": -1.2451491380517192}, \"22\": {\"effect\": 0.0, \"value\": 3.5564708417875215}, \"23\": {\"effect\": 0.12678058445453644, \"value\": -0.758172259335024}, \"24\": {\"effect\": 0.03362060338258743, \"value\": -0.4103081629534704}, \"25\": {\"effect\": -0.006493333261460066, \"value\": -0.5427936000087006}, \"26\": {\"effect\": -0.03010382503271103, \"value\": -0.22279761856768437}, \"27\": {\"effect\": 0.1588802933692932, \"value\": -1.0661249415016238}, \"28\": {\"effect\": 0.9775658845901489, \"value\": 1.4594352863719973}}}, {\"outValue\": -5.823403835296631, \"simIndex\": 19.0, \"features\": {\"0\": {\"effect\": -2.843268632888794, \"value\": 1.1854712546393036}, \"1\": {\"effect\": 0.1867096722126007, \"value\": 1.4624586475927912}, \"2\": {\"effect\": -0.7038058638572693, \"value\": -0.7476913132858489}, \"3\": {\"effect\": -0.03353988379240036, \"value\": 1.508010025186811}, \"4\": {\"effect\": 0.03973008692264557, \"value\": 0.3036007791309771}, \"5\": {\"effect\": 0.07271778583526611, \"value\": 1.4050873789322165}, \"6\": {\"effect\": 1.0069044828414917, \"value\": 2.2557671984490835}, \"7\": {\"effect\": -0.887167751789093, \"value\": -0.634569376322678}, \"8\": {\"effect\": -0.4416406750679016, \"value\": -0.4571407072357138}, \"9\": {\"effect\": 0.8077011108398438, \"value\": 6.073033599291522}, \"10\": {\"effect\": 1.0489665269851685, \"value\": 4.513589473314531}, \"11\": {\"effect\": -0.49517324566841125, \"value\": 1.5675198903176752}, \"12\": {\"effect\": -1.0374436378479004, \"value\": 2.409120251396323}, \"13\": {\"effect\": -0.05944656953215599, \"value\": 1.0192799631492326}, \"14\": {\"effect\": 0.005960441660135984, \"value\": -0.5280330036318513}, \"15\": {\"effect\": -0.05421563982963562, \"value\": -0.2661788214760475}, \"16\": {\"effect\": -0.03450281545519829, \"value\": -0.16685673020962713}, \"17\": {\"effect\": -0.047599758952856064, \"value\": -0.5985507225211906}, \"18\": {\"effect\": -0.016731711104512215, \"value\": -0.8329885208651995}, \"19\": {\"effect\": 0.18836352229118347, \"value\": 2.8687119403525534}, \"20\": {\"effect\": 0.06748218834400177, \"value\": -0.28392640499765853}, \"21\": {\"effect\": -0.36838528513908386, \"value\": -1.2451491380517192}, \"22\": {\"effect\": 0.0, \"value\": 3.5564708417875215}, \"23\": {\"effect\": 0.13206931948661804, \"value\": -0.758172259335024}, \"24\": {\"effect\": 0.00016432697884738445, \"value\": -0.4103081629534704}, \"25\": {\"effect\": -0.026519952341914177, \"value\": -0.5427936000087006}, \"26\": {\"effect\": -0.059562359005212784, \"value\": -0.22279761856768437}, \"27\": {\"effect\": 0.0877574011683464, \"value\": -1.0661249415016238}, \"28\": {\"effect\": -0.2504954934120178, \"value\": -0.6851965341237534}}}, {\"outValue\": -6.069336891174316, \"simIndex\": 18.0, \"features\": {\"0\": {\"effect\": -2.326296329498291, \"value\": -0.08831451039246153}, \"1\": {\"effect\": 0.5561701059341431, \"value\": 1.4624586475927912}, \"2\": {\"effect\": 0.0445113480091095, \"value\": 0.7745737785293401}, \"3\": {\"effect\": -0.03436056897044182, \"value\": 0.08885474866332646}, \"4\": {\"effect\": -0.055558666586875916, \"value\": 0.3036007791309771}, \"5\": {\"effect\": 0.7602239847183228, \"value\": 1.4050873789322165}, \"6\": {\"effect\": 0.9721084237098694, \"value\": 0.3122414004127624}, \"7\": {\"effect\": -0.6698352694511414, \"value\": -0.634569376322678}, \"8\": {\"effect\": -0.2353060394525528, \"value\": -0.7336970195781793}, \"9\": {\"effect\": -0.001913060899823904, \"value\": -0.3960596026735971}, \"10\": {\"effect\": -0.16854998469352722, \"value\": -0.6863168209939068}, \"11\": {\"effect\": -0.4564164876937866, \"value\": -0.6855867271997363}, \"12\": {\"effect\": -0.9242106080055237, \"value\": -0.4209534384317179}, \"13\": {\"effect\": -0.22128064930438995, \"value\": 1.0192799631492326}, \"14\": {\"effect\": 0.06424691528081894, \"value\": -0.5280330036318513}, \"15\": {\"effect\": -0.006740347947925329, \"value\": -0.2661788214760475}, \"16\": {\"effect\": -0.006489174906164408, \"value\": -0.16685673020962713}, \"17\": {\"effect\": 0.01235650759190321, \"value\": -0.5985507225211906}, \"18\": {\"effect\": -0.08613420277833939, \"value\": -0.8329885208651995}, \"19\": {\"effect\": 0.10703986883163452, \"value\": 2.8687119403525534}, \"20\": {\"effect\": 0.060599081218242645, \"value\": -0.28392640499765853}, \"21\": {\"effect\": -0.14391711354255676, \"value\": -1.2451491380517192}, \"22\": {\"effect\": 0.0, \"value\": -0.281177618061783}, \"23\": {\"effect\": -0.8207027912139893, \"value\": 1.318961473052414}, \"24\": {\"effect\": -0.00027012499049305916, \"value\": -0.4103081629534704}, \"25\": {\"effect\": -0.031589213758707047, \"value\": -0.5427936000087006}, \"26\": {\"effect\": -0.017395392060279846, \"value\": -0.22279761856768437}, \"27\": {\"effect\": -0.08897873014211655, \"value\": 0.9379763675648676}, \"28\": {\"effect\": -0.24221636354923248, \"value\": -0.6851965341237534}}}, {\"outValue\": -4.726664066314697, \"simIndex\": 47.0, \"features\": {\"0\": {\"effect\": 3.1528167724609375, \"value\": -1.1305028636002694}, \"1\": {\"effect\": -0.38050687313079834, \"value\": -0.7189997888231492}, \"2\": {\"effect\": 0.18218308687210083, \"value\": -0.16220473951077624}, \"3\": {\"effect\": 0.01643565110862255, \"value\": -1.3303005278601578}, \"4\": {\"effect\": -3.158756971359253, \"value\": -2.6286749375364726}, \"5\": {\"effect\": -0.42294028401374817, \"value\": -0.04474390507939949}, \"6\": {\"effect\": 1.2042319774627686, \"value\": 1.478356879234555}, \"7\": {\"effect\": -1.072617769241333, \"value\": -0.634569376322678}, \"8\": {\"effect\": 0.1594773232936859, \"value\": 0.37252822979168265}, \"9\": {\"effect\": -0.1272888034582138, \"value\": -0.935150702837357}, \"10\": {\"effect\": -0.17205722630023956, \"value\": -0.6863168209939068}, \"11\": {\"effect\": -0.1862953007221222, \"value\": -0.6855867271997363}, \"12\": {\"effect\": -0.9366024136543274, \"value\": -0.8545954037100237}, \"13\": {\"effect\": 0.061043571680784225, \"value\": -0.9810847227000676}, \"14\": {\"effect\": -0.11982452869415283, \"value\": 1.8938210170991654}, \"15\": {\"effect\": -0.10773056745529175, \"value\": -0.2661788214760475}, \"16\": {\"effect\": -0.011294051073491573, \"value\": -0.16685673020962713}, \"17\": {\"effect\": -0.037047985941171646, \"value\": 1.6707021850844006}, \"18\": {\"effect\": -0.14010095596313477, \"value\": -0.8329885208651995}, \"19\": {\"effect\": -0.01886981911957264, \"value\": -0.34858850271216285}, \"20\": {\"effect\": -0.062132399529218674, \"value\": -0.28392640499765853}, \"21\": {\"effect\": -0.01921248435974121, \"value\": -1.2451491380517192}, \"22\": {\"effect\": 0.0, \"value\": -0.281177618061783}, \"23\": {\"effect\": 0.08352537453174591, \"value\": -0.758172259335024}, \"24\": {\"effect\": 0.0029564297292381525, \"value\": 2.4371925549855598}, \"25\": {\"effect\": 0.03994106501340866, \"value\": -0.5427936000087006}, \"26\": {\"effect\": -0.006827911362051964, \"value\": -0.22279761856768437}, \"27\": {\"effect\": -0.06503427773714066, \"value\": 0.9379763675648676}, \"28\": {\"effect\": -0.47570332884788513, \"value\": -0.6851965341237534}}}], \"plot_cmap\": \"RdBu\", \"ordering_keys\": null, \"ordering_keys_time_format\": null}),\n",
       "    document.getElementById('i5N9XL5TKTTGB8Q9FUA4Z')\n",
       "  );\n",
       "</script>"
      ],
      "text/plain": [
       "<shap.plots._force.AdditiveForceArrayVisualizer at 0x34aed59d0>"
      ]
     },
     "execution_count": 106,
     "metadata": {},
     "output_type": "execute_result"
    }
   ],
   "source": [
    "# Force plot for the first 50 predictions\n",
    "shap.force_plot(explainer.expected_value, shap_values[:50], pd.DataFrame(X_test, columns=X.columns).iloc[:50])\n"
   ]
  },
  {
   "cell_type": "code",
   "execution_count": null,
   "metadata": {},
   "outputs": [],
   "source": []
  }
 ],
 "metadata": {
  "kernelspec": {
   "display_name": "deep",
   "language": "python",
   "name": "python3"
  },
  "language_info": {
   "codemirror_mode": {
    "name": "ipython",
    "version": 3
   },
   "file_extension": ".py",
   "mimetype": "text/x-python",
   "name": "python",
   "nbconvert_exporter": "python",
   "pygments_lexer": "ipython3",
   "version": "3.9.16"
  }
 },
 "nbformat": 4,
 "nbformat_minor": 2
}
